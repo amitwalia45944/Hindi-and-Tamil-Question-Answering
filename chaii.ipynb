{
 "cells": [
  {
   "cell_type": "code",
   "execution_count": 1,
   "id": "4b3be7f9",
   "metadata": {
    "_cell_guid": "b1076dfc-b9ad-4769-8c92-a6c4dae69d19",
    "_uuid": "8f2839f25d086af736a60e9eeb907d3b93b6e0e5",
    "execution": {
     "iopub.execute_input": "2022-06-02T09:36:15.436608Z",
     "iopub.status.busy": "2022-06-02T09:36:15.435452Z",
     "iopub.status.idle": "2022-06-02T09:36:15.492171Z",
     "shell.execute_reply": "2022-06-02T09:36:15.491318Z"
    },
    "papermill": {
     "duration": 0.073869,
     "end_time": "2022-06-02T09:36:15.495510",
     "exception": false,
     "start_time": "2022-06-02T09:36:15.421641",
     "status": "completed"
    },
    "tags": []
   },
   "outputs": [
    {
     "name": "stdout",
     "output_type": "stream",
     "text": [
      "/kaggle/input/hf-datasets/wheels/multiprocess-0.70.11.1-py37-none-any.whl\n",
      "/kaggle/input/hf-datasets/wheels/tqdm-4.49.0-py2.py3-none-any.whl\n",
      "/kaggle/input/hf-datasets/wheels/huggingface_hub-0.0.9-py3-none-any.whl\n",
      "/kaggle/input/hf-datasets/wheels/filelock-3.0.12-py3-none-any.whl\n",
      "/kaggle/input/hf-datasets/wheels/typing_extensions-3.10.0.0-py3-none-any.whl\n",
      "/kaggle/input/hf-datasets/wheels/certifi-2021.5.30-py2.py3-none-any.whl\n",
      "/kaggle/input/hf-datasets/wheels/pandas-1.2.4-cp37-cp37m-manylinux1_x86_64.whl\n",
      "/kaggle/input/hf-datasets/wheels/numpy-1.20.3-cp37-cp37m-manylinux_2_12_x86_64.manylinux2010_x86_64.whl\n",
      "/kaggle/input/hf-datasets/wheels/fsspec-2021.6.0-py3-none-any.whl\n",
      "/kaggle/input/hf-datasets/wheels/datasets-1.7.0-py3-none-any.whl\n",
      "/kaggle/input/hf-datasets/wheels/python_dateutil-2.8.1-py2.py3-none-any.whl\n",
      "/kaggle/input/hf-datasets/wheels/idna-2.10-py2.py3-none-any.whl\n",
      "/kaggle/input/hf-datasets/wheels/six-1.16.0-py2.py3-none-any.whl\n",
      "/kaggle/input/hf-datasets/wheels/pyparsing-2.4.7-py2.py3-none-any.whl\n",
      "/kaggle/input/hf-datasets/wheels/xxhash-2.0.2-cp37-cp37m-manylinux2010_x86_64.whl\n",
      "/kaggle/input/hf-datasets/wheels/importlib_metadata-4.5.0-py3-none-any.whl\n",
      "/kaggle/input/hf-datasets/wheels/chardet-4.0.0-py2.py3-none-any.whl\n",
      "/kaggle/input/hf-datasets/wheels/dill-0.3.3-py2.py3-none-any.whl\n",
      "/kaggle/input/hf-datasets/wheels/pyarrow-3.0.0-cp37-cp37m-manylinux2014_x86_64.whl\n",
      "/kaggle/input/hf-datasets/wheels/packaging-20.9-py2.py3-none-any.whl\n",
      "/kaggle/input/hf-datasets/wheels/pytz-2021.1-py2.py3-none-any.whl\n",
      "/kaggle/input/hf-datasets/wheels/zipp-3.4.1-py3-none-any.whl\n",
      "/kaggle/input/hf-datasets/wheels/urllib3-1.26.5-py2.py3-none-any.whl\n",
      "/kaggle/input/hf-datasets/wheels/requests-2.25.1-py2.py3-none-any.whl\n",
      "/kaggle/input/xlm-roberta-squad2/deepset/xlm-roberta-large-squad2/config.json\n",
      "/kaggle/input/xlm-roberta-squad2/deepset/xlm-roberta-large-squad2/tokenizer.json\n",
      "/kaggle/input/xlm-roberta-squad2/deepset/xlm-roberta-large-squad2/tokenizer_config.json\n",
      "/kaggle/input/xlm-roberta-squad2/deepset/xlm-roberta-large-squad2/pytorch_model.bin\n",
      "/kaggle/input/xlm-roberta-squad2/deepset/xlm-roberta-large-squad2/special_tokens_map.json\n",
      "/kaggle/input/xlm-roberta-squad2/deepset/xlm-roberta-large-squad2/sentencepiece.bpe.model\n",
      "/kaggle/input/xlm-roberta-squad2/deepset/xlm-roberta-base-squad2/config.json\n",
      "/kaggle/input/xlm-roberta-squad2/deepset/xlm-roberta-base-squad2/tokenizer.json\n",
      "/kaggle/input/xlm-roberta-squad2/deepset/xlm-roberta-base-squad2/tokenizer_config.json\n",
      "/kaggle/input/xlm-roberta-squad2/deepset/xlm-roberta-base-squad2/pytorch_model.bin\n",
      "/kaggle/input/xlm-roberta-squad2/deepset/xlm-roberta-base-squad2/special_tokens_map.json\n",
      "/kaggle/input/xlm-roberta-squad2/deepset/xlm-roberta-base-squad2/sentencepiece.bpe.model\n",
      "/kaggle/input/chaii-hindi-and-tamil-question-answering/sample_submission.csv\n",
      "/kaggle/input/chaii-hindi-and-tamil-question-answering/train.csv\n",
      "/kaggle/input/chaii-hindi-and-tamil-question-answering/test.csv\n"
     ]
    }
   ],
   "source": [
    "# This Python 3 environment comes with many helpful analytics libraries installed\n",
    "# It is defined by the kaggle/python Docker image: https://github.com/kaggle/docker-python\n",
    "# For example, here's several helpful packages to load\n",
    "\n",
    "import numpy as np # linear algebra\n",
    "import pandas as pd # data processing, CSV file I/O (e.g. pd.read_csv)\n",
    "\n",
    "# Input data files are available in the read-only \"../input/\" directory\n",
    "# For example, running this (by clicking run or pressing Shift+Enter) will list all files under the input directory\n",
    "\n",
    "import os\n",
    "for dirname, _, filenames in os.walk('/kaggle/input'):\n",
    "    for filename in filenames:\n",
    "        print(os.path.join(dirname, filename))\n",
    "\n",
    "# You can write up to 20GB to the current directory (/kaggle/working/) that gets preserved as output when you create a version using \"Save & Run All\" \n",
    "# You can also write temporary files to /kaggle/temp/, but they won't be saved outside of the current session"
   ]
  },
  {
   "cell_type": "code",
   "execution_count": 2,
   "id": "26164328",
   "metadata": {
    "execution": {
     "iopub.execute_input": "2022-06-02T09:36:15.520436Z",
     "iopub.status.busy": "2022-06-02T09:36:15.520134Z",
     "iopub.status.idle": "2022-06-02T09:36:16.253269Z",
     "shell.execute_reply": "2022-06-02T09:36:16.252360Z"
    },
    "papermill": {
     "duration": 0.747359,
     "end_time": "2022-06-02T09:36:16.255369",
     "exception": false,
     "start_time": "2022-06-02T09:36:15.508010",
     "status": "completed"
    },
    "tags": []
   },
   "outputs": [],
   "source": [
    "train=pd.read_csv(\"../input/chaii-hindi-and-tamil-question-answering/train.csv\")"
   ]
  },
  {
   "cell_type": "code",
   "execution_count": 3,
   "id": "5955b0ab",
   "metadata": {
    "execution": {
     "iopub.execute_input": "2022-06-02T09:36:16.287461Z",
     "iopub.status.busy": "2022-06-02T09:36:16.286945Z",
     "iopub.status.idle": "2022-06-02T09:36:16.291047Z",
     "shell.execute_reply": "2022-06-02T09:36:16.290303Z"
    },
    "papermill": {
     "duration": 0.020585,
     "end_time": "2022-06-02T09:36:16.292742",
     "exception": false,
     "start_time": "2022-06-02T09:36:16.272157",
     "status": "completed"
    },
    "tags": []
   },
   "outputs": [],
   "source": [
    "model_checkpoint=\"../input/xlm-roberta-squad2/deepset/xlm-roberta-large-squad2\""
   ]
  },
  {
   "cell_type": "code",
   "execution_count": 4,
   "id": "9a8841bb",
   "metadata": {
    "execution": {
     "iopub.execute_input": "2022-06-02T09:36:16.316622Z",
     "iopub.status.busy": "2022-06-02T09:36:16.315732Z",
     "iopub.status.idle": "2022-06-02T09:36:24.441113Z",
     "shell.execute_reply": "2022-06-02T09:36:24.440262Z"
    },
    "papermill": {
     "duration": 8.139681,
     "end_time": "2022-06-02T09:36:24.443558",
     "exception": false,
     "start_time": "2022-06-02T09:36:16.303877",
     "status": "completed"
    },
    "tags": []
   },
   "outputs": [],
   "source": [
    "from transformers import AutoTokenizer\n",
    "tokenizer=AutoTokenizer.from_pretrained(model_checkpoint)"
   ]
  },
  {
   "cell_type": "code",
   "execution_count": 5,
   "id": "dcfc56d0",
   "metadata": {
    "execution": {
     "iopub.execute_input": "2022-06-02T09:36:24.470964Z",
     "iopub.status.busy": "2022-06-02T09:36:24.470318Z",
     "iopub.status.idle": "2022-06-02T09:37:02.649669Z",
     "shell.execute_reply": "2022-06-02T09:37:02.648849Z"
    },
    "papermill": {
     "duration": 38.196037,
     "end_time": "2022-06-02T09:37:02.651930",
     "exception": false,
     "start_time": "2022-06-02T09:36:24.455893",
     "status": "completed"
    },
    "tags": []
   },
   "outputs": [
    {
     "name": "stderr",
     "output_type": "stream",
     "text": [
      "Token indices sequence length is longer than the specified maximum sequence length for this model (1492 > 512). Running this sequence through the model will result in indexing errors\n"
     ]
    }
   ],
   "source": [
    "train[\"num_tokens_context\"]=train[\"context\"].apply(lambda x: len(tokenizer(x)[\"input_ids\"]))"
   ]
  },
  {
   "cell_type": "code",
   "execution_count": 6,
   "id": "8000b2b9",
   "metadata": {
    "execution": {
     "iopub.execute_input": "2022-06-02T09:37:02.677660Z",
     "iopub.status.busy": "2022-06-02T09:37:02.677311Z",
     "iopub.status.idle": "2022-06-02T09:37:02.681996Z",
     "shell.execute_reply": "2022-06-02T09:37:02.681108Z"
    },
    "papermill": {
     "duration": 0.020122,
     "end_time": "2022-06-02T09:37:02.684255",
     "exception": false,
     "start_time": "2022-06-02T09:37:02.664133",
     "status": "completed"
    },
    "tags": []
   },
   "outputs": [],
   "source": [
    "def convert_answers(r):\n",
    "    start= r[0]\n",
    "    text= r[1]\n",
    "    return {\n",
    "        'answer_start': [start],\n",
    "        'text': [text]\n",
    "    }"
   ]
  },
  {
   "cell_type": "code",
   "execution_count": 7,
   "id": "1dd2574a",
   "metadata": {
    "execution": {
     "iopub.execute_input": "2022-06-02T09:37:02.709113Z",
     "iopub.status.busy": "2022-06-02T09:37:02.708762Z",
     "iopub.status.idle": "2022-06-02T09:37:02.741170Z",
     "shell.execute_reply": "2022-06-02T09:37:02.740394Z"
    },
    "papermill": {
     "duration": 0.047035,
     "end_time": "2022-06-02T09:37:02.743007",
     "exception": false,
     "start_time": "2022-06-02T09:37:02.695972",
     "status": "completed"
    },
    "tags": []
   },
   "outputs": [],
   "source": [
    "train = train.sample(frac=1, random_state=42)\n",
    "train['answers'] = train[['answer_start', 'answer_text']].apply(convert_answers, axis=1)"
   ]
  },
  {
   "cell_type": "code",
   "execution_count": 8,
   "id": "02e34f1c",
   "metadata": {
    "execution": {
     "iopub.execute_input": "2022-06-02T09:37:02.767970Z",
     "iopub.status.busy": "2022-06-02T09:37:02.767300Z",
     "iopub.status.idle": "2022-06-02T09:37:02.773798Z",
     "shell.execute_reply": "2022-06-02T09:37:02.772976Z"
    },
    "papermill": {
     "duration": 0.021309,
     "end_time": "2022-06-02T09:37:02.775741",
     "exception": false,
     "start_time": "2022-06-02T09:37:02.754432",
     "status": "completed"
    },
    "tags": []
   },
   "outputs": [],
   "source": [
    "df_train = train[:-64].reset_index(drop=True)\n",
    "df_valid = train[-64:].reset_index(drop=True)\n"
   ]
  },
  {
   "cell_type": "code",
   "execution_count": null,
   "id": "61924a17",
   "metadata": {
    "papermill": {
     "duration": 0.011354,
     "end_time": "2022-06-02T09:37:02.799246",
     "exception": false,
     "start_time": "2022-06-02T09:37:02.787892",
     "status": "completed"
    },
    "tags": []
   },
   "outputs": [],
   "source": []
  },
  {
   "cell_type": "code",
   "execution_count": 9,
   "id": "59a34fa3",
   "metadata": {
    "execution": {
     "iopub.execute_input": "2022-06-02T09:37:02.823717Z",
     "iopub.status.busy": "2022-06-02T09:37:02.823339Z",
     "iopub.status.idle": "2022-06-02T09:37:03.139562Z",
     "shell.execute_reply": "2022-06-02T09:37:03.138717Z"
    },
    "papermill": {
     "duration": 0.330487,
     "end_time": "2022-06-02T09:37:03.141869",
     "exception": false,
     "start_time": "2022-06-02T09:37:02.811382",
     "status": "completed"
    },
    "tags": []
   },
   "outputs": [],
   "source": [
    "from datasets import Dataset"
   ]
  },
  {
   "cell_type": "code",
   "execution_count": 10,
   "id": "c30641fa",
   "metadata": {
    "execution": {
     "iopub.execute_input": "2022-06-02T09:37:03.167976Z",
     "iopub.status.busy": "2022-06-02T09:37:03.166883Z",
     "iopub.status.idle": "2022-06-02T09:37:16.433141Z",
     "shell.execute_reply": "2022-06-02T09:37:16.432116Z"
    },
    "papermill": {
     "duration": 13.281768,
     "end_time": "2022-06-02T09:37:16.435396",
     "exception": false,
     "start_time": "2022-06-02T09:37:03.153628",
     "status": "completed"
    },
    "tags": []
   },
   "outputs": [
    {
     "name": "stdout",
     "output_type": "stream",
     "text": [
      "huggingface/tokenizers: The current process just got forked, after parallelism has already been used. Disabling parallelism to avoid deadlocks...\n",
      "To disable this warning, you can either:\n",
      "\t- Avoid using `tokenizers` before the fork if possible\n",
      "\t- Explicitly set the environment variable TOKENIZERS_PARALLELISM=(true | false)\n",
      "huggingface/tokenizers: The current process just got forked, after parallelism has already been used. Disabling parallelism to avoid deadlocks...\n",
      "To disable this warning, you can either:\n",
      "\t- Avoid using `tokenizers` before the fork if possible\n",
      "\t- Explicitly set the environment variable TOKENIZERS_PARALLELISM=(true | false)\n",
      "\u001b[31mERROR: pip's dependency resolver does not currently take into account all the packages that are installed. This behaviour is the source of the following dependency conflicts.\r\n",
      "dask-cudf 21.10.1 requires cupy-cuda114, which is not installed.\r\n",
      "s3fs 2022.5.0 requires fsspec==2022.5.0, but you have fsspec 2021.6.0 which is incompatible.\r\n",
      "pytorch-lightning 1.6.3 requires fsspec[http]!=2021.06.0,>=2021.05.0, but you have fsspec 2021.6.0 which is incompatible.\r\n",
      "gcsfs 2022.3.0 requires fsspec==2022.3.0, but you have fsspec 2021.6.0 which is incompatible.\r\n",
      "dask-cudf 21.10.1 requires dask==2021.09.1, but you have dask 2022.2.0 which is incompatible.\r\n",
      "dask-cudf 21.10.1 requires distributed==2021.09.1, but you have distributed 2022.2.0 which is incompatible.\u001b[0m\u001b[31m\r\n",
      "\u001b[0m"
     ]
    }
   ],
   "source": [
    "!pip uninstall fsspec -qq -y\n",
    "!pip install --no-index --find-links ../input/hf-datasets/wheels datasets -qq"
   ]
  },
  {
   "cell_type": "code",
   "execution_count": 11,
   "id": "c4f5a7db",
   "metadata": {
    "execution": {
     "iopub.execute_input": "2022-06-02T09:37:16.459417Z",
     "iopub.status.busy": "2022-06-02T09:37:16.459039Z",
     "iopub.status.idle": "2022-06-02T09:37:16.544746Z",
     "shell.execute_reply": "2022-06-02T09:37:16.543911Z"
    },
    "papermill": {
     "duration": 0.100167,
     "end_time": "2022-06-02T09:37:16.546857",
     "exception": false,
     "start_time": "2022-06-02T09:37:16.446690",
     "status": "completed"
    },
    "tags": []
   },
   "outputs": [],
   "source": [
    "train_dataset = Dataset.from_pandas(df_train)\n",
    "valid_dataset = Dataset.from_pandas(df_valid)"
   ]
  },
  {
   "cell_type": "code",
   "execution_count": 12,
   "id": "d8602f32",
   "metadata": {
    "execution": {
     "iopub.execute_input": "2022-06-02T09:37:16.572740Z",
     "iopub.status.busy": "2022-06-02T09:37:16.571941Z",
     "iopub.status.idle": "2022-06-02T09:37:16.580117Z",
     "shell.execute_reply": "2022-06-02T09:37:16.579246Z"
    },
    "papermill": {
     "duration": 0.023839,
     "end_time": "2022-06-02T09:37:16.582549",
     "exception": false,
     "start_time": "2022-06-02T09:37:16.558710",
     "status": "completed"
    },
    "tags": []
   },
   "outputs": [
    {
     "data": {
      "text/plain": [
       "Dataset({\n",
       "    features: ['id', 'context', 'question', 'answer_text', 'answer_start', 'language', 'num_tokens_context', 'answers'],\n",
       "    num_rows: 64\n",
       "})"
      ]
     },
     "execution_count": 12,
     "metadata": {},
     "output_type": "execute_result"
    }
   ],
   "source": [
    "valid_dataset"
   ]
  },
  {
   "cell_type": "code",
   "execution_count": 13,
   "id": "78e1468b",
   "metadata": {
    "execution": {
     "iopub.execute_input": "2022-06-02T09:37:16.607633Z",
     "iopub.status.busy": "2022-06-02T09:37:16.606728Z",
     "iopub.status.idle": "2022-06-02T09:37:16.611773Z",
     "shell.execute_reply": "2022-06-02T09:37:16.611076Z"
    },
    "papermill": {
     "duration": 0.018962,
     "end_time": "2022-06-02T09:37:16.613522",
     "exception": false,
     "start_time": "2022-06-02T09:37:16.594560",
     "status": "completed"
    },
    "tags": []
   },
   "outputs": [],
   "source": [
    "max_length = 384 # The maximum length of a feature (question and context)\n",
    "doc_stride = 128\n",
    "pad_on_right = tokenizer.padding_side == \"right\"\n",
    "batch_size=4"
   ]
  },
  {
   "cell_type": "code",
   "execution_count": 14,
   "id": "7d978dfd",
   "metadata": {
    "execution": {
     "iopub.execute_input": "2022-06-02T09:37:16.638671Z",
     "iopub.status.busy": "2022-06-02T09:37:16.638245Z",
     "iopub.status.idle": "2022-06-02T09:37:16.652678Z",
     "shell.execute_reply": "2022-06-02T09:37:16.652027Z"
    },
    "papermill": {
     "duration": 0.029183,
     "end_time": "2022-06-02T09:37:16.654435",
     "exception": false,
     "start_time": "2022-06-02T09:37:16.625252",
     "status": "completed"
    },
    "tags": []
   },
   "outputs": [],
   "source": [
    "def prepare_train_features(examples):\n",
    "    # Some of the questions have lots of whitespace on the left, which is not useful and will make the\n",
    "    # truncation of the context fail (the tokenized question will take a lots of space). So we remove that\n",
    "    # left whitespace\n",
    "    examples[\"question\"] = [q.lstrip() for q in examples[\"question\"]]\n",
    "\n",
    "    # Tokenize our examples with truncation and padding, but keep the overflows using a stride. This results\n",
    "    # in one example possible giving several features when a context is long, each of those features having a\n",
    "    # context that overlaps a bit the context of the previous feature.\n",
    "    tokenized_examples = tokenizer(\n",
    "        examples[\"question\" if pad_on_right else \"context\"],\n",
    "        examples[\"context\" if pad_on_right else \"question\"],\n",
    "        truncation=\"only_second\" if pad_on_right else \"only_first\",\n",
    "        max_length=max_length,\n",
    "        stride=doc_stride,\n",
    "        return_overflowing_tokens=True,\n",
    "        return_offsets_mapping=True,\n",
    "        padding=\"max_length\",\n",
    "    )\n",
    "\n",
    "    # Since one example might give us several features if it has a long context, we need a map from a feature to\n",
    "    # its corresponding example. This key gives us just that.\n",
    "    sample_mapping = tokenized_examples.pop(\"overflow_to_sample_mapping\")\n",
    "    # The offset mappings will give us a map from token to character position in the original context. This will\n",
    "    # help us compute the start_positions and end_positions.\n",
    "    offset_mapping = tokenized_examples.pop(\"offset_mapping\")\n",
    "\n",
    "    # Let's label those examples!\n",
    "    tokenized_examples[\"start_positions\"] = []\n",
    "    tokenized_examples[\"end_positions\"] = []\n",
    "\n",
    "    for i, offsets in enumerate(offset_mapping):\n",
    "        # We will label impossible answers with the index of the CLS token.\n",
    "        input_ids = tokenized_examples[\"input_ids\"][i]\n",
    "        cls_index = input_ids.index(tokenizer.cls_token_id)\n",
    "\n",
    "        # Grab the sequence corresponding to that example (to know what is the context and what is the question).\n",
    "        sequence_ids = tokenized_examples.sequence_ids(i)\n",
    "\n",
    "        # One example can give several spans, this is the index of the example containing this span of text.\n",
    "        sample_index = sample_mapping[i]\n",
    "        answers = examples[\"answers\"][sample_index]\n",
    "        # If no answers are given, set the cls_index as answer.\n",
    "        if len(answers[\"answer_start\"]) == 0:\n",
    "            tokenized_examples[\"start_positions\"].append(cls_index)\n",
    "            tokenized_examples[\"end_positions\"].append(cls_index)\n",
    "        else:\n",
    "            # Start/end character index of the answer in the text.\n",
    "            start_char = answers[\"answer_start\"][0]\n",
    "            end_char = start_char + len(answers[\"text\"][0])\n",
    "\n",
    "            # Start token index of the current span in the text.\n",
    "            token_start_index = 0\n",
    "            while sequence_ids[token_start_index] != (1 if pad_on_right else 0):\n",
    "                token_start_index += 1\n",
    "\n",
    "            # End token index of the current span in the text.\n",
    "            token_end_index = len(input_ids) - 1\n",
    "            while sequence_ids[token_end_index] != (1 if pad_on_right else 0):\n",
    "                token_end_index -= 1\n",
    "\n",
    "            # Detect if the answer is out of the span (in which case this feature is labeled with the CLS index).\n",
    "            if not (offsets[token_start_index][0] <= start_char and offsets[token_end_index][1] >= end_char):\n",
    "                tokenized_examples[\"start_positions\"].append(cls_index)\n",
    "                tokenized_examples[\"end_positions\"].append(cls_index)\n",
    "            else:\n",
    "                # Otherwise move the token_start_index and token_end_index to the two ends of the answer.\n",
    "                # Note: we could go after the last offset if the answer is the last word (edge case).\n",
    "                while token_start_index < len(offsets) and offsets[token_start_index][0] <= start_char:\n",
    "                    token_start_index += 1\n",
    "                tokenized_examples[\"start_positions\"].append(token_start_index - 1)\n",
    "                while offsets[token_end_index][1] >= end_char:\n",
    "                    token_end_index -= 1\n",
    "                tokenized_examples[\"end_positions\"].append(token_end_index + 1)\n",
    "\n",
    "    return tokenized_examples"
   ]
  },
  {
   "cell_type": "code",
   "execution_count": 15,
   "id": "5e33d38e",
   "metadata": {
    "execution": {
     "iopub.execute_input": "2022-06-02T09:37:16.681149Z",
     "iopub.status.busy": "2022-06-02T09:37:16.680316Z",
     "iopub.status.idle": "2022-06-02T09:37:58.182413Z",
     "shell.execute_reply": "2022-06-02T09:37:58.181352Z"
    },
    "papermill": {
     "duration": 41.518191,
     "end_time": "2022-06-02T09:37:58.184800",
     "exception": false,
     "start_time": "2022-06-02T09:37:16.666609",
     "status": "completed"
    },
    "tags": []
   },
   "outputs": [
    {
     "data": {
      "application/vnd.jupyter.widget-view+json": {
       "model_id": "81b44588e4bd427d951506de96b1618c",
       "version_major": 2,
       "version_minor": 0
      },
      "text/plain": [
       "  0%|          | 0/2 [00:00<?, ?ba/s]"
      ]
     },
     "metadata": {},
     "output_type": "display_data"
    },
    {
     "data": {
      "application/vnd.jupyter.widget-view+json": {
       "model_id": "012ff420559b4a57b8fe34ca334a0178",
       "version_major": 2,
       "version_minor": 0
      },
      "text/plain": [
       "  0%|          | 0/1 [00:00<?, ?ba/s]"
      ]
     },
     "metadata": {},
     "output_type": "display_data"
    }
   ],
   "source": [
    "tokenized_train_ds = train_dataset.map(prepare_train_features, batched=True, remove_columns=train_dataset.column_names)\n",
    "tokenized_valid_ds = valid_dataset.map(prepare_train_features, batched=True, remove_columns=train_dataset.column_names)"
   ]
  },
  {
   "cell_type": "code",
   "execution_count": 16,
   "id": "64ee1c42",
   "metadata": {
    "execution": {
     "iopub.execute_input": "2022-06-02T09:37:58.214115Z",
     "iopub.status.busy": "2022-06-02T09:37:58.213693Z",
     "iopub.status.idle": "2022-06-02T09:38:31.064994Z",
     "shell.execute_reply": "2022-06-02T09:38:31.064006Z"
    },
    "papermill": {
     "duration": 32.868282,
     "end_time": "2022-06-02T09:38:31.067268",
     "exception": false,
     "start_time": "2022-06-02T09:37:58.198986",
     "status": "completed"
    },
    "tags": []
   },
   "outputs": [],
   "source": [
    "from transformers import AutoModelForQuestionAnswering, TrainingArguments, Trainer\n",
    "\n",
    "model = AutoModelForQuestionAnswering.from_pretrained(model_checkpoint)"
   ]
  },
  {
   "cell_type": "code",
   "execution_count": 17,
   "id": "0b482da5",
   "metadata": {
    "execution": {
     "iopub.execute_input": "2022-06-02T09:38:31.093263Z",
     "iopub.status.busy": "2022-06-02T09:38:31.092222Z",
     "iopub.status.idle": "2022-06-02T09:38:31.165070Z",
     "shell.execute_reply": "2022-06-02T09:38:31.164191Z"
    },
    "papermill": {
     "duration": 0.087772,
     "end_time": "2022-06-02T09:38:31.167647",
     "exception": false,
     "start_time": "2022-06-02T09:38:31.079875",
     "status": "completed"
    },
    "tags": []
   },
   "outputs": [],
   "source": [
    "args = TrainingArguments(\n",
    "    f\"chaii-qa\",\n",
    "    evaluation_strategy = \"epoch\",\n",
    "    save_strategy = \"epoch\",\n",
    "    learning_rate=3e-5,\n",
    "    warmup_ratio=0.1,\n",
    "    gradient_accumulation_steps=8,\n",
    "    per_device_train_batch_size=batch_size,\n",
    "    per_device_eval_batch_size=batch_size,\n",
    "    num_train_epochs=1,\n",
    "    weight_decay=0.01,\n",
    ")"
   ]
  },
  {
   "cell_type": "code",
   "execution_count": 18,
   "id": "d8ef2050",
   "metadata": {
    "execution": {
     "iopub.execute_input": "2022-06-02T09:38:31.193759Z",
     "iopub.status.busy": "2022-06-02T09:38:31.193167Z",
     "iopub.status.idle": "2022-06-02T09:38:31.197126Z",
     "shell.execute_reply": "2022-06-02T09:38:31.196253Z"
    },
    "papermill": {
     "duration": 0.018339,
     "end_time": "2022-06-02T09:38:31.198732",
     "exception": false,
     "start_time": "2022-06-02T09:38:31.180393",
     "status": "completed"
    },
    "tags": []
   },
   "outputs": [],
   "source": [
    "from transformers import default_data_collator\n",
    "\n",
    "data_collator = default_data_collator"
   ]
  },
  {
   "cell_type": "code",
   "execution_count": null,
   "id": "d5042a29",
   "metadata": {
    "papermill": {
     "duration": 0.010937,
     "end_time": "2022-06-02T09:38:31.220646",
     "exception": false,
     "start_time": "2022-06-02T09:38:31.209709",
     "status": "completed"
    },
    "tags": []
   },
   "outputs": [],
   "source": []
  },
  {
   "cell_type": "code",
   "execution_count": 19,
   "id": "d3002ecf",
   "metadata": {
    "execution": {
     "iopub.execute_input": "2022-06-02T09:38:31.244205Z",
     "iopub.status.busy": "2022-06-02T09:38:31.243572Z",
     "iopub.status.idle": "2022-06-02T09:38:37.470682Z",
     "shell.execute_reply": "2022-06-02T09:38:37.469606Z"
    },
    "papermill": {
     "duration": 6.241543,
     "end_time": "2022-06-02T09:38:37.473020",
     "exception": false,
     "start_time": "2022-06-02T09:38:31.231477",
     "status": "completed"
    },
    "tags": []
   },
   "outputs": [
    {
     "name": "stdout",
     "output_type": "stream",
     "text": [
      "huggingface/tokenizers: The current process just got forked, after parallelism has already been used. Disabling parallelism to avoid deadlocks...\n",
      "To disable this warning, you can either:\n",
      "\t- Avoid using `tokenizers` before the fork if possible\n",
      "\t- Explicitly set the environment variable TOKENIZERS_PARALLELISM=(true | false)\n",
      "huggingface/tokenizers: The current process just got forked, after parallelism has already been used. Disabling parallelism to avoid deadlocks...\n",
      "To disable this warning, you can either:\n",
      "\t- Avoid using `tokenizers` before the fork if possible\n",
      "\t- Explicitly set the environment variable TOKENIZERS_PARALLELISM=(true | false)\n",
      "huggingface/tokenizers: The current process just got forked, after parallelism has already been used. Disabling parallelism to avoid deadlocks...\n",
      "To disable this warning, you can either:\n",
      "\t- Avoid using `tokenizers` before the fork if possible\n",
      "\t- Explicitly set the environment variable TOKENIZERS_PARALLELISM=(true | false)\n"
     ]
    }
   ],
   "source": [
    "trainer = Trainer(\n",
    "    model,\n",
    "    args,\n",
    "    train_dataset=tokenized_train_ds,\n",
    "    eval_dataset=tokenized_valid_ds,\n",
    "    data_collator=data_collator,\n",
    "    tokenizer=tokenizer,\n",
    ")"
   ]
  },
  {
   "cell_type": "code",
   "execution_count": 20,
   "id": "b0a96cb5",
   "metadata": {
    "execution": {
     "iopub.execute_input": "2022-06-02T09:38:37.498600Z",
     "iopub.status.busy": "2022-06-02T09:38:37.497856Z",
     "iopub.status.idle": "2022-06-02T09:38:37.503226Z",
     "shell.execute_reply": "2022-06-02T09:38:37.502447Z"
    },
    "papermill": {
     "duration": 0.020275,
     "end_time": "2022-06-02T09:38:37.505377",
     "exception": false,
     "start_time": "2022-06-02T09:38:37.485102",
     "status": "completed"
    },
    "tags": []
   },
   "outputs": [
    {
     "name": "stdout",
     "output_type": "stream",
     "text": [
      "env: WANDB_DISABLED=True\n"
     ]
    }
   ],
   "source": [
    "%env WANDB_DISABLED=True"
   ]
  },
  {
   "cell_type": "code",
   "execution_count": 21,
   "id": "645ed1c9",
   "metadata": {
    "execution": {
     "iopub.execute_input": "2022-06-02T09:38:37.529386Z",
     "iopub.status.busy": "2022-06-02T09:38:37.528762Z",
     "iopub.status.idle": "2022-06-02T09:41:14.978637Z",
     "shell.execute_reply": "2022-06-02T09:41:14.977123Z"
    },
    "papermill": {
     "duration": 157.464099,
     "end_time": "2022-06-02T09:41:14.980873",
     "exception": false,
     "start_time": "2022-06-02T09:38:37.516774",
     "status": "completed"
    },
    "tags": []
   },
   "outputs": [
    {
     "name": "stdout",
     "output_type": "stream",
     "text": [
      "huggingface/tokenizers: The current process just got forked, after parallelism has already been used. Disabling parallelism to avoid deadlocks...\n",
      "To disable this warning, you can either:\n",
      "\t- Avoid using `tokenizers` before the fork if possible\n",
      "\t- Explicitly set the environment variable TOKENIZERS_PARALLELISM=(true | false)\n",
      "Requirement already satisfied: wandb in /opt/conda/lib/python3.7/site-packages (0.12.16)\r\n",
      "\u001b[33mWARNING: Retrying (Retry(total=4, connect=None, read=None, redirect=None, status=None)) after connection broken by 'NewConnectionError('<pip._vendor.urllib3.connection.HTTPSConnection object at 0x7ff840a39b50>: Failed to establish a new connection: [Errno -3] Temporary failure in name resolution')': /simple/wandb/\u001b[0m\u001b[33m\r\n",
      "\u001b[0m\u001b[33mWARNING: Retrying (Retry(total=3, connect=None, read=None, redirect=None, status=None)) after connection broken by 'NewConnectionError('<pip._vendor.urllib3.connection.HTTPSConnection object at 0x7ff840a39650>: Failed to establish a new connection: [Errno -3] Temporary failure in name resolution')': /simple/wandb/\u001b[0m\u001b[33m\r\n",
      "\u001b[0m\u001b[33mWARNING: Retrying (Retry(total=2, connect=None, read=None, redirect=None, status=None)) after connection broken by 'NewConnectionError('<pip._vendor.urllib3.connection.HTTPSConnection object at 0x7ff840a39710>: Failed to establish a new connection: [Errno -3] Temporary failure in name resolution')': /simple/wandb/\u001b[0m\u001b[33m\r\n",
      "\u001b[0m\u001b[33mWARNING: Retrying (Retry(total=1, connect=None, read=None, redirect=None, status=None)) after connection broken by 'NewConnectionError('<pip._vendor.urllib3.connection.HTTPSConnection object at 0x7ff8409d3210>: Failed to establish a new connection: [Errno -3] Temporary failure in name resolution')': /simple/wandb/\u001b[0m\u001b[33m\r\n",
      "\u001b[0m\u001b[33mWARNING: Retrying (Retry(total=0, connect=None, read=None, redirect=None, status=None)) after connection broken by 'NewConnectionError('<pip._vendor.urllib3.connection.HTTPSConnection object at 0x7ff8409d35d0>: Failed to establish a new connection: [Errno -3] Temporary failure in name resolution')': /simple/wandb/\u001b[0m\u001b[33m\r\n",
      "\u001b[0mRequirement already satisfied: GitPython>=1.0.0 in /opt/conda/lib/python3.7/site-packages (from wandb) (3.1.27)\r\n",
      "Requirement already satisfied: requests<3,>=2.0.0 in /opt/conda/lib/python3.7/site-packages (from wandb) (2.27.1)\r\n",
      "Requirement already satisfied: promise<3,>=2.0 in /opt/conda/lib/python3.7/site-packages (from wandb) (2.3)\r\n",
      "Requirement already satisfied: docker-pycreds>=0.4.0 in /opt/conda/lib/python3.7/site-packages (from wandb) (0.4.0)\r\n",
      "Requirement already satisfied: protobuf>=3.12.0 in /opt/conda/lib/python3.7/site-packages (from wandb) (3.20.1)\r\n",
      "Requirement already satisfied: psutil>=5.0.0 in /opt/conda/lib/python3.7/site-packages (from wandb) (5.9.0)\r\n",
      "Requirement already satisfied: six>=1.13.0 in /opt/conda/lib/python3.7/site-packages (from wandb) (1.16.0)\r\n",
      "Requirement already satisfied: setuptools in /opt/conda/lib/python3.7/site-packages (from wandb) (59.8.0)\r\n",
      "Requirement already satisfied: setproctitle in /opt/conda/lib/python3.7/site-packages (from wandb) (1.2.3)\r\n",
      "Requirement already satisfied: python-dateutil>=2.6.1 in /opt/conda/lib/python3.7/site-packages (from wandb) (2.8.2)\r\n",
      "Requirement already satisfied: pathtools in /opt/conda/lib/python3.7/site-packages (from wandb) (0.1.2)\r\n",
      "Requirement already satisfied: Click!=8.0.0,>=7.0 in /opt/conda/lib/python3.7/site-packages (from wandb) (8.0.4)\r\n",
      "Requirement already satisfied: PyYAML in /opt/conda/lib/python3.7/site-packages (from wandb) (6.0)\r\n",
      "Requirement already satisfied: shortuuid>=0.5.0 in /opt/conda/lib/python3.7/site-packages (from wandb) (1.0.9)\r\n",
      "Requirement already satisfied: sentry-sdk>=1.0.0 in /opt/conda/lib/python3.7/site-packages (from wandb) (1.5.12)\r\n",
      "Requirement already satisfied: importlib-metadata in /opt/conda/lib/python3.7/site-packages (from Click!=8.0.0,>=7.0->wandb) (4.11.4)\r\n",
      "Requirement already satisfied: typing-extensions>=3.7.4.3 in /opt/conda/lib/python3.7/site-packages (from GitPython>=1.0.0->wandb) (4.2.0)\r\n",
      "Requirement already satisfied: gitdb<5,>=4.0.1 in /opt/conda/lib/python3.7/site-packages (from GitPython>=1.0.0->wandb) (4.0.9)\r\n",
      "Requirement already satisfied: charset-normalizer~=2.0.0 in /opt/conda/lib/python3.7/site-packages (from requests<3,>=2.0.0->wandb) (2.0.12)\r\n",
      "Requirement already satisfied: idna<4,>=2.5 in /opt/conda/lib/python3.7/site-packages (from requests<3,>=2.0.0->wandb) (3.3)\r\n",
      "Requirement already satisfied: urllib3<1.27,>=1.21.1 in /opt/conda/lib/python3.7/site-packages (from requests<3,>=2.0.0->wandb) (1.26.9)\r\n",
      "Requirement already satisfied: certifi>=2017.4.17 in /opt/conda/lib/python3.7/site-packages (from requests<3,>=2.0.0->wandb) (2022.5.18.1)\r\n",
      "Requirement already satisfied: smmap<6,>=3.0.1 in /opt/conda/lib/python3.7/site-packages (from gitdb<5,>=4.0.1->GitPython>=1.0.0->wandb) (3.0.5)\r\n",
      "Requirement already satisfied: zipp>=0.5 in /opt/conda/lib/python3.7/site-packages (from importlib-metadata->Click!=8.0.0,>=7.0->wandb) (3.8.0)\r\n",
      "\u001b[33mWARNING: Running pip as the 'root' user can result in broken permissions and conflicting behaviour with the system package manager. It is recommended to use a virtual environment instead: https://pip.pypa.io/warnings/venv\u001b[0m\u001b[33m\r\n",
      "\u001b[0m\u001b[33mWARNING: There was an error checking the latest version of pip.\u001b[0m\u001b[33m\r\n",
      "\u001b[0mNote: you may need to restart the kernel to use updated packages.\n"
     ]
    }
   ],
   "source": [
    "pip install wandb --upgrade"
   ]
  },
  {
   "cell_type": "code",
   "execution_count": 22,
   "id": "5c388384",
   "metadata": {
    "execution": {
     "iopub.execute_input": "2022-06-02T09:41:15.009317Z",
     "iopub.status.busy": "2022-06-02T09:41:15.008900Z",
     "iopub.status.idle": "2022-06-02T10:13:28.752808Z",
     "shell.execute_reply": "2022-06-02T10:13:28.751974Z"
    },
    "papermill": {
     "duration": 1933.76095,
     "end_time": "2022-06-02T10:13:28.755447",
     "exception": false,
     "start_time": "2022-06-02T09:41:14.994497",
     "status": "completed"
    },
    "tags": []
   },
   "outputs": [
    {
     "name": "stderr",
     "output_type": "stream",
     "text": [
      "/opt/conda/lib/python3.7/site-packages/transformers/optimization.py:309: FutureWarning: This implementation of AdamW is deprecated and will be removed in a future version. Use the PyTorch implementation torch.optim.AdamW instead, or set `no_deprecation_warning=True` to disable this warning\n",
      "  FutureWarning,\n",
      "***** Running training *****\n",
      "  Num examples = 13925\n",
      "  Num Epochs = 1\n",
      "  Instantaneous batch size per device = 4\n",
      "  Total train batch size (w. parallel, distributed & accumulation) = 32\n",
      "  Gradient Accumulation steps = 8\n",
      "  Total optimization steps = 435\n",
      "Automatic Weights & Biases logging enabled, to disable set os.environ[\"WANDB_DISABLED\"] = \"true\"\n"
     ]
    },
    {
     "name": "stdout",
     "output_type": "stream",
     "text": [
      "huggingface/tokenizers: The current process just got forked, after parallelism has already been used. Disabling parallelism to avoid deadlocks...\n",
      "To disable this warning, you can either:\n",
      "\t- Avoid using `tokenizers` before the fork if possible\n",
      "\t- Explicitly set the environment variable TOKENIZERS_PARALLELISM=(true | false)\n",
      "huggingface/tokenizers: The current process just got forked, after parallelism has already been used. Disabling parallelism to avoid deadlocks...\n",
      "To disable this warning, you can either:\n",
      "\t- Avoid using `tokenizers` before the fork if possible\n",
      "\t- Explicitly set the environment variable TOKENIZERS_PARALLELISM=(true | false)\n"
     ]
    },
    {
     "data": {
      "text/html": [
       "Tracking run with wandb version 0.12.16"
      ],
      "text/plain": [
       "<IPython.core.display.HTML object>"
      ]
     },
     "metadata": {},
     "output_type": "display_data"
    },
    {
     "data": {
      "text/html": [
       "W&B syncing is set to <code>`offline`<code> in this directory.  <br/>Run <code>`wandb online`<code> or set <code>WANDB_MODE=online<code> to enable cloud syncing."
      ],
      "text/plain": [
       "<IPython.core.display.HTML object>"
      ]
     },
     "metadata": {},
     "output_type": "display_data"
    },
    {
     "data": {
      "text/html": [
       "\n",
       "    <div>\n",
       "      \n",
       "      <progress value='435' max='435' style='width:300px; height:20px; vertical-align: middle;'></progress>\n",
       "      [435/435 31:24, Epoch 0/1]\n",
       "    </div>\n",
       "    <table border=\"1\" class=\"dataframe\">\n",
       "  <thead>\n",
       " <tr style=\"text-align: left;\">\n",
       "      <th>Epoch</th>\n",
       "      <th>Training Loss</th>\n",
       "      <th>Validation Loss</th>\n",
       "    </tr>\n",
       "  </thead>\n",
       "  <tbody>\n",
       "    <tr>\n",
       "      <td>0</td>\n",
       "      <td>No log</td>\n",
       "      <td>0.284637</td>\n",
       "    </tr>\n",
       "  </tbody>\n",
       "</table><p>"
      ],
      "text/plain": [
       "<IPython.core.display.HTML object>"
      ]
     },
     "metadata": {},
     "output_type": "display_data"
    },
    {
     "name": "stderr",
     "output_type": "stream",
     "text": [
      "***** Running Evaluation *****\n",
      "  Num examples = 816\n",
      "  Batch size = 4\n",
      "Saving model checkpoint to chaii-qa/checkpoint-435\n",
      "Configuration saved in chaii-qa/checkpoint-435/config.json\n",
      "Model weights saved in chaii-qa/checkpoint-435/pytorch_model.bin\n",
      "tokenizer config file saved in chaii-qa/checkpoint-435/tokenizer_config.json\n",
      "Special tokens file saved in chaii-qa/checkpoint-435/special_tokens_map.json\n",
      "\n",
      "\n",
      "Training completed. Do not forget to share your model on huggingface.co/models =)\n",
      "\n",
      "\n"
     ]
    },
    {
     "data": {
      "text/plain": [
       "TrainOutput(global_step=435, training_loss=0.2638397918350395, metrics={'train_runtime': 1933.6824, 'train_samples_per_second': 7.201, 'train_steps_per_second': 0.225, 'total_flos': 9695700997816320.0, 'train_loss': 0.2638397918350395, 'epoch': 1.0})"
      ]
     },
     "execution_count": 22,
     "metadata": {},
     "output_type": "execute_result"
    }
   ],
   "source": [
    "trainer.train()"
   ]
  },
  {
   "cell_type": "code",
   "execution_count": 23,
   "id": "a71c446e",
   "metadata": {
    "execution": {
     "iopub.execute_input": "2022-06-02T10:13:28.809543Z",
     "iopub.status.busy": "2022-06-02T10:13:28.808679Z",
     "iopub.status.idle": "2022-06-02T10:13:37.487513Z",
     "shell.execute_reply": "2022-06-02T10:13:37.486539Z"
    },
    "papermill": {
     "duration": 8.70656,
     "end_time": "2022-06-02T10:13:37.490179",
     "exception": false,
     "start_time": "2022-06-02T10:13:28.783619",
     "status": "completed"
    },
    "tags": []
   },
   "outputs": [
    {
     "name": "stderr",
     "output_type": "stream",
     "text": [
      "Saving model checkpoint to chaii-bert-trained\n",
      "Configuration saved in chaii-bert-trained/config.json\n",
      "Model weights saved in chaii-bert-trained/pytorch_model.bin\n",
      "tokenizer config file saved in chaii-bert-trained/tokenizer_config.json\n",
      "Special tokens file saved in chaii-bert-trained/special_tokens_map.json\n"
     ]
    }
   ],
   "source": [
    "trainer.save_model(\"chaii-bert-trained\")"
   ]
  },
  {
   "cell_type": "code",
   "execution_count": 24,
   "id": "6898957f",
   "metadata": {
    "execution": {
     "iopub.execute_input": "2022-06-02T10:13:43.040798Z",
     "iopub.status.busy": "2022-06-02T10:13:43.040298Z",
     "iopub.status.idle": "2022-06-02T10:13:43.067590Z",
     "shell.execute_reply": "2022-06-02T10:13:43.066771Z"
    },
    "papermill": {
     "duration": 0.379191,
     "end_time": "2022-06-02T10:13:43.070660",
     "exception": false,
     "start_time": "2022-06-02T10:13:42.691469",
     "status": "completed"
    },
    "tags": []
   },
   "outputs": [],
   "source": [
    "def prepare_validation_features(examples):\n",
    "    # Some of the questions have lots of whitespace on the left, which is not useful and will make the\n",
    "    # truncation of the context fail (the tokenized question will take a lots of space). So we remove that\n",
    "    # left whitespace\n",
    "    examples[\"question\"] = [q.lstrip() for q in examples[\"question\"]]\n",
    "\n",
    "    # Tokenize our examples with truncation and maybe padding, but keep the overflows using a stride. This results\n",
    "    # in one example possible giving several features when a context is long, each of those features having a\n",
    "    # context that overlaps a bit the context of the previous feature.\n",
    "    tokenized_examples = tokenizer(\n",
    "        examples[\"question\" if pad_on_right else \"context\"],\n",
    "        examples[\"context\" if pad_on_right else \"question\"],\n",
    "        truncation=\"only_second\" if pad_on_right else \"only_first\",\n",
    "        max_length=max_length,\n",
    "        stride=doc_stride,\n",
    "        return_overflowing_tokens=True,\n",
    "        return_offsets_mapping=True,\n",
    "        padding=\"max_length\",\n",
    "    )\n",
    "\n",
    "    # Since one example might give us several features if it has a long context, we need a map from a feature to\n",
    "    # its corresponding example. This key gives us just that.\n",
    "    sample_mapping = tokenized_examples.pop(\"overflow_to_sample_mapping\")\n",
    "\n",
    "    # We keep the example_id that gave us this feature and we will store the offset mappings.\n",
    "    tokenized_examples[\"example_id\"] = []\n",
    "\n",
    "    for i in range(len(tokenized_examples[\"input_ids\"])):\n",
    "        # Grab the sequence corresponding to that example (to know what is the context and what is the question).\n",
    "        sequence_ids = tokenized_examples.sequence_ids(i)\n",
    "        context_index = 1 if pad_on_right else 0\n",
    "\n",
    "        # One example can give several spans, this is the index of the example containing this span of text.\n",
    "        sample_index = sample_mapping[i]\n",
    "        tokenized_examples[\"example_id\"].append(examples[\"id\"][sample_index])\n",
    "\n",
    "        # Set to None the offset_mapping that are not part of the context so it's easy to determine if a token\n",
    "        # position is part of the context or not.\n",
    "        tokenized_examples[\"offset_mapping\"][i] = [\n",
    "            (o if sequence_ids[k] == context_index else None)\n",
    "            for k, o in enumerate(tokenized_examples[\"offset_mapping\"][i])\n",
    "        ]\n",
    "\n",
    "    return tokenized_examples\n"
   ]
  },
  {
   "cell_type": "code",
   "execution_count": 25,
   "id": "89e1c85c",
   "metadata": {
    "execution": {
     "iopub.execute_input": "2022-06-02T10:13:43.550626Z",
     "iopub.status.busy": "2022-06-02T10:13:43.550040Z",
     "iopub.status.idle": "2022-06-02T10:13:51.697256Z",
     "shell.execute_reply": "2022-06-02T10:13:51.696484Z"
    },
    "papermill": {
     "duration": 8.605094,
     "end_time": "2022-06-02T10:13:51.698991",
     "exception": false,
     "start_time": "2022-06-02T10:13:43.093897",
     "status": "completed"
    },
    "tags": []
   },
   "outputs": [
    {
     "data": {
      "application/vnd.jupyter.widget-view+json": {
       "model_id": "a7eb38ae79434257b4bdbddcbf8eed04",
       "version_major": 2,
       "version_minor": 0
      },
      "text/plain": [
       "  0%|          | 0/1 [00:00<?, ?ba/s]"
      ]
     },
     "metadata": {},
     "output_type": "display_data"
    }
   ],
   "source": [
    "validation_features = valid_dataset.map(\n",
    "    prepare_validation_features,\n",
    "    batched=True,\n",
    "    remove_columns=valid_dataset.column_names\n",
    ")"
   ]
  },
  {
   "cell_type": "code",
   "execution_count": 26,
   "id": "851c4897",
   "metadata": {
    "execution": {
     "iopub.execute_input": "2022-06-02T10:13:51.731777Z",
     "iopub.status.busy": "2022-06-02T10:13:51.731461Z",
     "iopub.status.idle": "2022-06-02T10:13:53.616870Z",
     "shell.execute_reply": "2022-06-02T10:13:53.616112Z"
    },
    "papermill": {
     "duration": 1.902397,
     "end_time": "2022-06-02T10:13:53.618782",
     "exception": false,
     "start_time": "2022-06-02T10:13:51.716385",
     "status": "completed"
    },
    "tags": []
   },
   "outputs": [
    {
     "data": {
      "application/vnd.jupyter.widget-view+json": {
       "model_id": "bf99cbba7d4748dc9609d6a5f6a3dce3",
       "version_major": 2,
       "version_minor": 0
      },
      "text/plain": [
       "  0%|          | 0/816 [00:00<?, ?ex/s]"
      ]
     },
     "metadata": {},
     "output_type": "display_data"
    },
    {
     "data": {
      "text/plain": [
       "Dataset({\n",
       "    features: ['input_ids', 'attention_mask'],\n",
       "    num_rows: 816\n",
       "})"
      ]
     },
     "execution_count": 26,
     "metadata": {},
     "output_type": "execute_result"
    }
   ],
   "source": [
    "valid_feats_small = validation_features.map(lambda example: example, remove_columns=['example_id', 'offset_mapping'])\n",
    "valid_feats_small"
   ]
  },
  {
   "cell_type": "code",
   "execution_count": 27,
   "id": "3675adfe",
   "metadata": {
    "execution": {
     "iopub.execute_input": "2022-06-02T10:13:53.653831Z",
     "iopub.status.busy": "2022-06-02T10:13:53.651935Z",
     "iopub.status.idle": "2022-06-02T10:14:28.445523Z",
     "shell.execute_reply": "2022-06-02T10:14:28.444780Z"
    },
    "papermill": {
     "duration": 34.813801,
     "end_time": "2022-06-02T10:14:28.447412",
     "exception": false,
     "start_time": "2022-06-02T10:13:53.633611",
     "status": "completed"
    },
    "tags": []
   },
   "outputs": [
    {
     "name": "stderr",
     "output_type": "stream",
     "text": [
      "***** Running Prediction *****\n",
      "  Num examples = 816\n",
      "  Batch size = 4\n"
     ]
    },
    {
     "data": {
      "text/html": [
       "\n",
       "    <div>\n",
       "      \n",
       "      <progress value='221' max='204' style='width:300px; height:20px; vertical-align: middle;'></progress>\n",
       "      [204/204 00:45]\n",
       "    </div>\n",
       "    "
      ],
      "text/plain": [
       "<IPython.core.display.HTML object>"
      ]
     },
     "metadata": {},
     "output_type": "display_data"
    }
   ],
   "source": [
    "raw_predictions = trainer.predict(valid_feats_small)"
   ]
  },
  {
   "cell_type": "code",
   "execution_count": 28,
   "id": "ec522183",
   "metadata": {
    "execution": {
     "iopub.execute_input": "2022-06-02T10:14:28.477607Z",
     "iopub.status.busy": "2022-06-02T10:14:28.477338Z",
     "iopub.status.idle": "2022-06-02T10:14:29.933307Z",
     "shell.execute_reply": "2022-06-02T10:14:29.932371Z"
    },
    "papermill": {
     "duration": 1.473647,
     "end_time": "2022-06-02T10:14:29.935665",
     "exception": false,
     "start_time": "2022-06-02T10:14:28.462018",
     "status": "completed"
    },
    "tags": []
   },
   "outputs": [],
   "source": [
    "max_answer_length = 30\n",
    "import collections\n",
    "\n",
    "examples = valid_dataset\n",
    "features = validation_features\n",
    "\n",
    "example_id_to_index = {k: i for i, k in enumerate(examples[\"id\"])}\n",
    "features_per_example = collections.defaultdict(list)\n",
    "for i, feature in enumerate(features):\n",
    "    features_per_example[example_id_to_index[feature[\"example_id\"]]].append(i)"
   ]
  },
  {
   "cell_type": "code",
   "execution_count": 29,
   "id": "bf8a7672",
   "metadata": {
    "execution": {
     "iopub.execute_input": "2022-06-02T10:14:29.970031Z",
     "iopub.status.busy": "2022-06-02T10:14:29.969722Z",
     "iopub.status.idle": "2022-06-02T10:14:29.986463Z",
     "shell.execute_reply": "2022-06-02T10:14:29.985787Z"
    },
    "papermill": {
     "duration": 0.037848,
     "end_time": "2022-06-02T10:14:29.988863",
     "exception": false,
     "start_time": "2022-06-02T10:14:29.951015",
     "status": "completed"
    },
    "tags": []
   },
   "outputs": [],
   "source": [
    "from tqdm.auto import tqdm\n",
    "\n",
    "def postprocess_qa_predictions(examples, features, raw_predictions, n_best_size = 20, max_answer_length = 30):\n",
    "    all_start_logits, all_end_logits = raw_predictions\n",
    "    # Build a map example to its corresponding features.\n",
    "    example_id_to_index = {k: i for i, k in enumerate(examples[\"id\"])}\n",
    "    features_per_example = collections.defaultdict(list)\n",
    "    for i, feature in enumerate(features):\n",
    "        features_per_example[example_id_to_index[feature[\"example_id\"]]].append(i)\n",
    "\n",
    "    # The dictionaries we have to fill.\n",
    "    predictions = collections.OrderedDict()\n",
    "\n",
    "    # Logging.\n",
    "    print(f\"Post-processing {len(examples)} example predictions split into {len(features)} features.\")\n",
    "\n",
    "    # Let's loop over all the examples!\n",
    "    for example_index, example in enumerate(tqdm(examples)):\n",
    "        # Those are the indices of the features associated to the current example.\n",
    "        feature_indices = features_per_example[example_index]\n",
    "\n",
    "        min_null_score = None # Only used if squad_v2 is True.\n",
    "        valid_answers = []\n",
    "        \n",
    "        context = example[\"context\"]\n",
    "        # Looping through all the features associated to the current example.\n",
    "        for feature_index in feature_indices:\n",
    "            # We grab the predictions of the model for this feature.\n",
    "            start_logits = all_start_logits[feature_index]\n",
    "            end_logits = all_end_logits[feature_index]\n",
    "            # This is what will allow us to map some the positions in our logits to span of texts in the original\n",
    "            # context.\n",
    "            offset_mapping = features[feature_index][\"offset_mapping\"]\n",
    "\n",
    "            # Update minimum null prediction.\n",
    "            cls_index = features[feature_index][\"input_ids\"].index(tokenizer.cls_token_id)\n",
    "            feature_null_score = start_logits[cls_index] + end_logits[cls_index]\n",
    "            if min_null_score is None or min_null_score < feature_null_score:\n",
    "                min_null_score = feature_null_score\n",
    "\n",
    "            # Go through all possibilities for the `n_best_size` greater start and end logits.\n",
    "            start_indexes = np.argsort(start_logits)[-1 : -n_best_size - 1 : -1].tolist()\n",
    "            end_indexes = np.argsort(end_logits)[-1 : -n_best_size - 1 : -1].tolist()\n",
    "            for start_index in start_indexes:\n",
    "                for end_index in end_indexes:\n",
    "                    # Don't consider out-of-scope answers, either because the indices are out of bounds or correspond\n",
    "                    # to part of the input_ids that are not in the context.\n",
    "                    if (\n",
    "                        start_index >= len(offset_mapping)\n",
    "                        or end_index >= len(offset_mapping)\n",
    "                        or offset_mapping[start_index] is None\n",
    "                        or offset_mapping[end_index] is None\n",
    "                    ):\n",
    "                        continue\n",
    "                    # Don't consider answers with a length that is either < 0 or > max_answer_length.\n",
    "                    if end_index < start_index or end_index - start_index + 1 > max_answer_length:\n",
    "                        continue\n",
    "\n",
    "                    start_char = offset_mapping[start_index][0]\n",
    "                    end_char = offset_mapping[end_index][1]\n",
    "                    valid_answers.append(\n",
    "                        {\n",
    "                            \"score\": start_logits[start_index] + end_logits[end_index],\n",
    "                            \"text\": context[start_char: end_char]\n",
    "                        }\n",
    "                    )\n",
    "        \n",
    "        if len(valid_answers) > 0:\n",
    "            best_answer = sorted(valid_answers, key=lambda x: x[\"score\"], reverse=True)[0]\n",
    "        else:\n",
    "            # In the very rare edge case we have not a single non-null prediction, we create a fake prediction to avoid\n",
    "            # failure.\n",
    "            best_answer = {\"text\": \"\", \"score\": 0.0}\n",
    "        \n",
    "        # Let's pick our final answer: the best one or the null answer (only for squad_v2)\n",
    "        predictions[example[\"id\"]] = best_answer[\"text\"]\n",
    "\n",
    "    return predictions"
   ]
  },
  {
   "cell_type": "code",
   "execution_count": 30,
   "id": "f379fb47",
   "metadata": {
    "execution": {
     "iopub.execute_input": "2022-06-02T10:14:30.020265Z",
     "iopub.status.busy": "2022-06-02T10:14:30.019977Z",
     "iopub.status.idle": "2022-06-02T10:14:34.761664Z",
     "shell.execute_reply": "2022-06-02T10:14:34.760770Z"
    },
    "papermill": {
     "duration": 4.758808,
     "end_time": "2022-06-02T10:14:34.763796",
     "exception": false,
     "start_time": "2022-06-02T10:14:30.004988",
     "status": "completed"
    },
    "tags": []
   },
   "outputs": [
    {
     "name": "stdout",
     "output_type": "stream",
     "text": [
      "Post-processing 64 example predictions split into 816 features.\n"
     ]
    },
    {
     "data": {
      "application/vnd.jupyter.widget-view+json": {
       "model_id": "3a1d247506a8432b8ca4e3eacd86dc13",
       "version_major": 2,
       "version_minor": 0
      },
      "text/plain": [
       "  0%|          | 0/64 [00:00<?, ?it/s]"
      ]
     },
     "metadata": {},
     "output_type": "display_data"
    }
   ],
   "source": [
    "final_predictions = postprocess_qa_predictions(valid_dataset, validation_features, raw_predictions.predictions)"
   ]
  },
  {
   "cell_type": "code",
   "execution_count": 31,
   "id": "e9472051",
   "metadata": {
    "execution": {
     "iopub.execute_input": "2022-06-02T10:14:34.796904Z",
     "iopub.status.busy": "2022-06-02T10:14:34.796236Z",
     "iopub.status.idle": "2022-06-02T10:14:34.820910Z",
     "shell.execute_reply": "2022-06-02T10:14:34.820090Z"
    },
    "papermill": {
     "duration": 0.043139,
     "end_time": "2022-06-02T10:14:34.822864",
     "exception": false,
     "start_time": "2022-06-02T10:14:34.779725",
     "status": "completed"
    },
    "tags": []
   },
   "outputs": [],
   "source": [
    "references = [{\"id\": ex[\"id\"], \"answer\": ex[\"answers\"]['text'][0]} for ex in valid_dataset]\n"
   ]
  },
  {
   "cell_type": "code",
   "execution_count": 32,
   "id": "8883dc3b",
   "metadata": {
    "execution": {
     "iopub.execute_input": "2022-06-02T10:14:34.861923Z",
     "iopub.status.busy": "2022-06-02T10:14:34.861655Z",
     "iopub.status.idle": "2022-06-02T10:14:34.868075Z",
     "shell.execute_reply": "2022-06-02T10:14:34.867039Z"
    },
    "papermill": {
     "duration": 0.031949,
     "end_time": "2022-06-02T10:14:34.871250",
     "exception": false,
     "start_time": "2022-06-02T10:14:34.839301",
     "status": "completed"
    },
    "tags": []
   },
   "outputs": [],
   "source": [
    "def jaccard(row): \n",
    "    str1 = row[0]\n",
    "    str2 = row[1]\n",
    "    a = set(str1.lower().split()) \n",
    "    b = set(str2.lower().split())\n",
    "    c = a.intersection(b)\n",
    "    return float(len(c)) / (len(a) + len(b) - len(c))"
   ]
  },
  {
   "cell_type": "code",
   "execution_count": 33,
   "id": "d63087b1",
   "metadata": {
    "execution": {
     "iopub.execute_input": "2022-06-02T10:14:34.906516Z",
     "iopub.status.busy": "2022-06-02T10:14:34.906209Z",
     "iopub.status.idle": "2022-06-02T10:14:34.939214Z",
     "shell.execute_reply": "2022-06-02T10:14:34.938379Z"
    },
    "papermill": {
     "duration": 0.050506,
     "end_time": "2022-06-02T10:14:34.941212",
     "exception": false,
     "start_time": "2022-06-02T10:14:34.890706",
     "status": "completed"
    },
    "tags": []
   },
   "outputs": [
    {
     "data": {
      "text/html": [
       "<div>\n",
       "<style scoped>\n",
       "    .dataframe tbody tr th:only-of-type {\n",
       "        vertical-align: middle;\n",
       "    }\n",
       "\n",
       "    .dataframe tbody tr th {\n",
       "        vertical-align: top;\n",
       "    }\n",
       "\n",
       "    .dataframe thead th {\n",
       "        text-align: right;\n",
       "    }\n",
       "</style>\n",
       "<table border=\"1\" class=\"dataframe\">\n",
       "  <thead>\n",
       "    <tr style=\"text-align: right;\">\n",
       "      <th></th>\n",
       "      <th>id</th>\n",
       "      <th>answer</th>\n",
       "      <th>prediction</th>\n",
       "      <th>jaccard</th>\n",
       "    </tr>\n",
       "  </thead>\n",
       "  <tbody>\n",
       "    <tr>\n",
       "      <th>0</th>\n",
       "      <td>dc64d02cf</td>\n",
       "      <td>प्रतिभा पाटील</td>\n",
       "      <td>प्रतिभा पाटील</td>\n",
       "      <td>1.000000</td>\n",
       "    </tr>\n",
       "    <tr>\n",
       "      <th>1</th>\n",
       "      <td>98d8542f6</td>\n",
       "      <td>பிங்க்</td>\n",
       "      <td>பிங்க்</td>\n",
       "      <td>1.000000</td>\n",
       "    </tr>\n",
       "    <tr>\n",
       "      <th>2</th>\n",
       "      <td>3ce81e663</td>\n",
       "      <td>मिर्ज़ा असद-उल्लाह बेग ख़ां</td>\n",
       "      <td>मिर्ज़ा असद-उल्लाह बेग ख़ां</td>\n",
       "      <td>1.000000</td>\n",
       "    </tr>\n",
       "    <tr>\n",
       "      <th>3</th>\n",
       "      <td>40f4e32da</td>\n",
       "      <td>मीटर प्रति सेकेण्ड2</td>\n",
       "      <td>मीटर प्रति सेकेण्ड2</td>\n",
       "      <td>1.000000</td>\n",
       "    </tr>\n",
       "    <tr>\n",
       "      <th>4</th>\n",
       "      <td>bfa4380bd</td>\n",
       "      <td>अगरतला</td>\n",
       "      <td>अगरतला</td>\n",
       "      <td>1.000000</td>\n",
       "    </tr>\n",
       "    <tr>\n",
       "      <th>...</th>\n",
       "      <td>...</td>\n",
       "      <td>...</td>\n",
       "      <td>...</td>\n",
       "      <td>...</td>\n",
       "    </tr>\n",
       "    <tr>\n",
       "      <th>59</th>\n",
       "      <td>3acaa3b86</td>\n",
       "      <td>स्टेगेरिया</td>\n",
       "      <td>स्टेगेरिया</td>\n",
       "      <td>1.000000</td>\n",
       "    </tr>\n",
       "    <tr>\n",
       "      <th>60</th>\n",
       "      <td>7a3e4bf22</td>\n",
       "      <td>கி.மு 3000</td>\n",
       "      <td>கி.மு 6000</td>\n",
       "      <td>0.333333</td>\n",
       "    </tr>\n",
       "    <tr>\n",
       "      <th>61</th>\n",
       "      <td>de34ee0a0</td>\n",
       "      <td>माइकोलैव ब्लैक ‍सी शिपयार्ड</td>\n",
       "      <td>यूक्रेन के माइकोलैव ब्लैक ‍सी शिपयार्ड</td>\n",
       "      <td>0.666667</td>\n",
       "    </tr>\n",
       "    <tr>\n",
       "      <th>62</th>\n",
       "      <td>518fc3aaf</td>\n",
       "      <td>तेरह</td>\n",
       "      <td>तेरह</td>\n",
       "      <td>1.000000</td>\n",
       "    </tr>\n",
       "    <tr>\n",
       "      <th>63</th>\n",
       "      <td>632812604</td>\n",
       "      <td>न्युयॉर्क</td>\n",
       "      <td>न्युयॉर्क</td>\n",
       "      <td>1.000000</td>\n",
       "    </tr>\n",
       "  </tbody>\n",
       "</table>\n",
       "<p>64 rows × 4 columns</p>\n",
       "</div>"
      ],
      "text/plain": [
       "           id                       answer  \\\n",
       "0   dc64d02cf                प्रतिभा पाटील   \n",
       "1   98d8542f6                       பிங்க்   \n",
       "2   3ce81e663  मिर्ज़ा असद-उल्लाह बेग ख़ां   \n",
       "3   40f4e32da          मीटर प्रति सेकेण्ड2   \n",
       "4   bfa4380bd                       अगरतला   \n",
       "..        ...                          ...   \n",
       "59  3acaa3b86                   स्टेगेरिया   \n",
       "60  7a3e4bf22                   கி.மு 3000   \n",
       "61  de34ee0a0  माइकोलैव ब्लैक ‍सी शिपयार्ड   \n",
       "62  518fc3aaf                         तेरह   \n",
       "63  632812604                    न्युयॉर्क   \n",
       "\n",
       "                                 prediction   jaccard  \n",
       "0                             प्रतिभा पाटील  1.000000  \n",
       "1                                    பிங்க்  1.000000  \n",
       "2               मिर्ज़ा असद-उल्लाह बेग ख़ां  1.000000  \n",
       "3                       मीटर प्रति सेकेण्ड2  1.000000  \n",
       "4                                    अगरतला  1.000000  \n",
       "..                                      ...       ...  \n",
       "59                               स्टेगेरिया  1.000000  \n",
       "60                               கி.மு 6000  0.333333  \n",
       "61   यूक्रेन के माइकोलैव ब्लैक ‍सी शिपयार्ड  0.666667  \n",
       "62                                     तेरह  1.000000  \n",
       "63                                न्युयॉर्क  1.000000  \n",
       "\n",
       "[64 rows x 4 columns]"
      ]
     },
     "execution_count": 33,
     "metadata": {},
     "output_type": "execute_result"
    }
   ],
   "source": [
    "res = pd.DataFrame(references)\n",
    "res['prediction'] = res['id'].apply(lambda r: final_predictions[r])\n",
    "res['jaccard'] = res[['answer', 'prediction']].apply(jaccard, axis=1)\n",
    "res"
   ]
  },
  {
   "cell_type": "code",
   "execution_count": 34,
   "id": "126f7e7c",
   "metadata": {
    "execution": {
     "iopub.execute_input": "2022-06-02T10:14:34.974506Z",
     "iopub.status.busy": "2022-06-02T10:14:34.974017Z",
     "iopub.status.idle": "2022-06-02T10:14:34.981452Z",
     "shell.execute_reply": "2022-06-02T10:14:34.980639Z"
    },
    "papermill": {
     "duration": 0.025208,
     "end_time": "2022-06-02T10:14:34.983542",
     "exception": false,
     "start_time": "2022-06-02T10:14:34.958334",
     "status": "completed"
    },
    "tags": []
   },
   "outputs": [
    {
     "data": {
      "text/plain": [
       "{'id': '40f4e32da',\n",
       " 'context': '[1]\\nकिसी वस्तु के वेग परिवर्तन की दर को त्वरण (Acceleration) कहते हैं। इसका मात्रक मीटर प्रति सेकेण्ड2 होता है तथा यह एक सदिश राशि हैं।\\na\\n→\\n(\\nt\\n)\\n=\\nd\\nv\\n→\\n(\\nt\\n)\\nd\\nt\\n≡\\nv\\n→\\n˙\\n(\\nt\\n)\\n{\\\\displaystyle {\\\\vec {a}}(t)={\\\\frac {\\\\mathrm {d} {\\\\vec {v}}(t)}{\\\\mathrm {d} t}}\\\\equiv {\\\\dot {\\\\vec {v}}}(t)}\\nया,\\na\\n→\\n(\\nt\\n)\\n=\\nd\\n2\\nr\\n→\\n(\\nt\\n)\\nd\\nt\\n2\\n≡\\nr\\n→\\n¨\\n(\\nt\\n)\\n{\\\\displaystyle {\\\\vec {a}}(t)={\\\\frac {\\\\mathrm {d} ^{2}{\\\\vec {r}}(t)}{\\\\mathrm {d} t^{2}}}\\\\equiv {\\\\ddot {\\\\vec {r}}}(t)}\\nउदाहरण: माना समय t=० पर कोई कण १० मीटर/सेकेण्ड के वेग से उत्तर दिशा में गति कर रहा है। १० सेकेण्ड बाद उसका वेग बढ़कर ३० मीटर/सेकेण्ड (उत्तर दिशा में) हो जाता है। यह मानते हुए कि इस समयान्तराल में त्वरण का मान नियत है, त्वरण का मान = (३० m/s - १० m/s) / १० सेकेण्ड = २ मीटर प्रति सेकेण्ड2 होगा।\\nकिसी वस्तु विशेष द्वारा बदला गया वेग ही त्वरण Acceleration कहलाता है।\\nस्पर्शरेखीय तथा अभिकेंद्रीय त्वरण किसी वक्र पथ पर गति करते हुए कण का वेग समय के फलन के रूप में निम्नलिखित प्रकार से लिखा जा सकता है-\\nv\\n(\\nt\\n)\\n=\\nv\\n(\\nt\\n)\\nv\\n(\\nt\\n)\\nv\\n(\\nt\\n)\\n=\\nv\\n(\\nt\\n)\\nu\\nt\\n(\\nt\\n)\\n,\\n{\\\\displaystyle \\\\mathbf {v} (t)=v(t){\\\\frac {\\\\mathbf {v} (t)}{v(t)}}=v(t)\\\\mathbf {u} _{\\\\mathrm {t} }(t),}\\nजहाँ v(t) पथ की दिशा में वेग है, तथा\\nu\\nt\\n=\\nv\\n(\\nt\\n)\\nv\\n(\\nt\\n)\\n{\\\\displaystyle \\\\mathbf {u} _{\\\\mathrm {t} }={\\\\frac {\\\\mathbf {v} (t)}{v(t)}}\\\\,}\\nगति की दिशा में गतिपथ के स्पर्शरेखीय इकाई सदिश है। ध्यान दें कि यहाँ v(t) तथा ut दोनों समय के साथ परिवर्तन्शील हैं, त्वरण की गणना निम्नलिखित प्रकार से की जायेगी:[2]\\na\\n=\\nd\\nv\\nd\\nt\\n=\\nd\\nv\\nd\\nt\\nu\\nt\\n+\\nv\\n(\\nt\\n)\\nd\\nu\\nt\\nd\\nt\\n=\\nd\\nv\\nd\\nt\\nu\\nt\\n+\\nv\\n2\\nr\\nu\\nn\\n{\\\\displaystyle {\\\\begin{alignedat}{3}\\\\mathbf {a} &amp;={\\\\frac {\\\\mathrm {d} \\\\mathbf {v} }{\\\\mathrm {d} t}}\\\\\\\\&amp;={\\\\frac {\\\\mathrm {d} v}{\\\\mathrm {d} t}}\\\\mathbf {u} _{\\\\mathrm {t} }+v(t){\\\\frac {d\\\\mathbf {u} _{\\\\mathrm {t} }}{dt}}\\\\\\\\&amp;={\\\\frac {\\\\mathrm {d} v}{\\\\mathrm {d} t}}\\\\mathbf {u} _{\\\\mathrm {t} }+{\\\\frac {v^{2}}{r}}\\\\mathbf {u} _{\\\\mathrm {n} }\\\\,\\\\\\\\\\\\end{alignedat}}}\\nजहाँ un इकाई नॉर्मल सदिश (अन्दर की तरफ) है तथा r उस क्षण पर वक्रता त्रिज्या है। त्वरन के इन दो घटकों को क्रमशः स्पर्शरेखीय त्वरण (tangential acceleration) तथा नॉर्मल त्वरन या त्रिज्य त्वरण या अभिकेन्द्रीय त्वरण (centripetal acceleration) कहते हैं।\\nकुछ विशिष्ट स्थितियाँ\\nरैखिक गति वृत्तीय गति\\nसरल आवर्त गति (सिम्पल हार्मोनिक मोशन)\\nपरवलयिक गति - त्वरण का परिमाण और दिशा अचर हो, वेग का परिमाण और दिशा परिवर्ती हो; जैसे प्रक्षेप्य गति)\\nसन्दर्भ इन्हें भी देखें त्वरणमापी\\nभूकम्पमापी\\nगुरुत्वजनित त्वरण\\nन्यूटन का गति का दूसरा नियम\\nकण त्वरक\\nउपरोधी वाल्व (थ्रॉटिल वाल्व) या मोटरगाड़ियों का त्वरक (एक्सलरेटर)\\nबाहरी कड़ियाँ Simple acceleration unit converter\\nBased on starting &amp; ending speed and time elapsed.\\n*\\nश्रेणी:गति\\nश्रेणी:भौतिक राशियाँ\\nश्रेणी:गतिविज्ञान\\nश्रेणी:भौतिकी\\nश्रेणी:भौतिक शब्दावली',\n",
       " 'question': 'त्वरण की SI इकाई क्या है?',\n",
       " 'answer_text': 'मीटर प्रति सेकेण्ड2',\n",
       " 'answer_start': 83,\n",
       " 'language': 'hindi',\n",
       " 'num_tokens_context': 1111,\n",
       " 'answers': {'answer_start': [83], 'text': ['मीटर प्रति सेकेण्ड2']}}"
      ]
     },
     "execution_count": 34,
     "metadata": {},
     "output_type": "execute_result"
    }
   ],
   "source": [
    "valid_dataset[3]"
   ]
  },
  {
   "cell_type": "code",
   "execution_count": 35,
   "id": "3866c887",
   "metadata": {
    "execution": {
     "iopub.execute_input": "2022-06-02T10:14:35.016084Z",
     "iopub.status.busy": "2022-06-02T10:14:35.015797Z",
     "iopub.status.idle": "2022-06-02T10:14:35.041890Z",
     "shell.execute_reply": "2022-06-02T10:14:35.041203Z"
    },
    "papermill": {
     "duration": 0.047537,
     "end_time": "2022-06-02T10:14:35.046936",
     "exception": false,
     "start_time": "2022-06-02T10:14:34.999399",
     "status": "completed"
    },
    "tags": []
   },
   "outputs": [],
   "source": [
    "test=pd.read_csv(\"../input/chaii-hindi-and-tamil-question-answering/test.csv\")"
   ]
  },
  {
   "cell_type": "code",
   "execution_count": 36,
   "id": "74e264af",
   "metadata": {
    "execution": {
     "iopub.execute_input": "2022-06-02T10:14:35.117929Z",
     "iopub.status.busy": "2022-06-02T10:14:35.117479Z",
     "iopub.status.idle": "2022-06-02T10:14:35.129721Z",
     "shell.execute_reply": "2022-06-02T10:14:35.129005Z"
    },
    "papermill": {
     "duration": 0.057657,
     "end_time": "2022-06-02T10:14:35.137261",
     "exception": false,
     "start_time": "2022-06-02T10:14:35.079604",
     "status": "completed"
    },
    "tags": []
   },
   "outputs": [],
   "source": [
    "test_dataset = Dataset.from_pandas(test)"
   ]
  },
  {
   "cell_type": "code",
   "execution_count": null,
   "id": "62bdc2a5",
   "metadata": {
    "papermill": {
     "duration": 0.025892,
     "end_time": "2022-06-02T10:14:35.191559",
     "exception": false,
     "start_time": "2022-06-02T10:14:35.165667",
     "status": "completed"
    },
    "tags": []
   },
   "outputs": [],
   "source": []
  },
  {
   "cell_type": "code",
   "execution_count": 37,
   "id": "b4cd10d0",
   "metadata": {
    "execution": {
     "iopub.execute_input": "2022-06-02T10:14:35.239685Z",
     "iopub.status.busy": "2022-06-02T10:14:35.239283Z",
     "iopub.status.idle": "2022-06-02T10:14:36.463411Z",
     "shell.execute_reply": "2022-06-02T10:14:36.462646Z"
    },
    "papermill": {
     "duration": 1.250488,
     "end_time": "2022-06-02T10:14:36.465983",
     "exception": false,
     "start_time": "2022-06-02T10:14:35.215495",
     "status": "completed"
    },
    "tags": []
   },
   "outputs": [
    {
     "data": {
      "application/vnd.jupyter.widget-view+json": {
       "model_id": "0981540f8d6948a996a2643cd5e45135",
       "version_major": 2,
       "version_minor": 0
      },
      "text/plain": [
       "  0%|          | 0/1 [00:00<?, ?ba/s]"
      ]
     },
     "metadata": {},
     "output_type": "display_data"
    }
   ],
   "source": [
    "test_features = test_dataset.map(\n",
    "    prepare_validation_features,\n",
    "    batched=True,\n",
    "    remove_columns=test_dataset.column_names\n",
    ")"
   ]
  },
  {
   "cell_type": "code",
   "execution_count": 38,
   "id": "9829ce7f",
   "metadata": {
    "execution": {
     "iopub.execute_input": "2022-06-02T10:14:36.537126Z",
     "iopub.status.busy": "2022-06-02T10:14:36.536488Z",
     "iopub.status.idle": "2022-06-02T10:14:36.836772Z",
     "shell.execute_reply": "2022-06-02T10:14:36.836080Z"
    },
    "papermill": {
     "duration": 0.330272,
     "end_time": "2022-06-02T10:14:36.839115",
     "exception": false,
     "start_time": "2022-06-02T10:14:36.508843",
     "status": "completed"
    },
    "tags": []
   },
   "outputs": [
    {
     "data": {
      "application/vnd.jupyter.widget-view+json": {
       "model_id": "403c83d3f69e4b9b9c6e2d6c40591474",
       "version_major": 2,
       "version_minor": 0
      },
      "text/plain": [
       "  0%|          | 0/67 [00:00<?, ?ex/s]"
      ]
     },
     "metadata": {},
     "output_type": "display_data"
    },
    {
     "data": {
      "text/plain": [
       "Dataset({\n",
       "    features: ['input_ids', 'attention_mask'],\n",
       "    num_rows: 67\n",
       "})"
      ]
     },
     "execution_count": 38,
     "metadata": {},
     "output_type": "execute_result"
    }
   ],
   "source": [
    "test_feats_small = test_features.map(lambda example: example, remove_columns=['example_id', 'offset_mapping'])\n",
    "test_feats_small"
   ]
  },
  {
   "cell_type": "code",
   "execution_count": 39,
   "id": "8c9d6942",
   "metadata": {
    "execution": {
     "iopub.execute_input": "2022-06-02T10:14:36.893018Z",
     "iopub.status.busy": "2022-06-02T10:14:36.892501Z",
     "iopub.status.idle": "2022-06-02T10:14:39.792322Z",
     "shell.execute_reply": "2022-06-02T10:14:39.791516Z"
    },
    "papermill": {
     "duration": 2.928202,
     "end_time": "2022-06-02T10:14:39.794330",
     "exception": false,
     "start_time": "2022-06-02T10:14:36.866128",
     "status": "completed"
    },
    "tags": []
   },
   "outputs": [
    {
     "name": "stderr",
     "output_type": "stream",
     "text": [
      "***** Running Prediction *****\n",
      "  Num examples = 67\n",
      "  Batch size = 4\n"
     ]
    }
   ],
   "source": [
    "test_predictions = trainer.predict(test_feats_small)"
   ]
  },
  {
   "cell_type": "code",
   "execution_count": 40,
   "id": "1fe3a32a",
   "metadata": {
    "execution": {
     "iopub.execute_input": "2022-06-02T10:14:39.833344Z",
     "iopub.status.busy": "2022-06-02T10:14:39.833024Z",
     "iopub.status.idle": "2022-06-02T10:14:39.839073Z",
     "shell.execute_reply": "2022-06-02T10:14:39.838338Z"
    },
    "papermill": {
     "duration": 0.030369,
     "end_time": "2022-06-02T10:14:39.843885",
     "exception": false,
     "start_time": "2022-06-02T10:14:39.813516",
     "status": "completed"
    },
    "tags": []
   },
   "outputs": [],
   "source": [
    "test_features.set_format(type=test_features.format[\"type\"], columns=list(test_features.features.keys()))"
   ]
  },
  {
   "cell_type": "code",
   "execution_count": 41,
   "id": "ff2256ca",
   "metadata": {
    "execution": {
     "iopub.execute_input": "2022-06-02T10:14:39.879376Z",
     "iopub.status.busy": "2022-06-02T10:14:39.879102Z",
     "iopub.status.idle": "2022-06-02T10:14:40.291378Z",
     "shell.execute_reply": "2022-06-02T10:14:40.290583Z"
    },
    "papermill": {
     "duration": 0.431593,
     "end_time": "2022-06-02T10:14:40.293791",
     "exception": false,
     "start_time": "2022-06-02T10:14:39.862198",
     "status": "completed"
    },
    "tags": []
   },
   "outputs": [
    {
     "name": "stdout",
     "output_type": "stream",
     "text": [
      "Post-processing 5 example predictions split into 67 features.\n"
     ]
    },
    {
     "data": {
      "application/vnd.jupyter.widget-view+json": {
       "model_id": "f52a37b6eab945b0a67958d4f07f0161",
       "version_major": 2,
       "version_minor": 0
      },
      "text/plain": [
       "  0%|          | 0/5 [00:00<?, ?it/s]"
      ]
     },
     "metadata": {},
     "output_type": "display_data"
    }
   ],
   "source": [
    "final_test_predictions = postprocess_qa_predictions(test_dataset, test_features, test_predictions.predictions)"
   ]
  },
  {
   "cell_type": "code",
   "execution_count": 42,
   "id": "063610d0",
   "metadata": {
    "execution": {
     "iopub.execute_input": "2022-06-02T10:14:40.329080Z",
     "iopub.status.busy": "2022-06-02T10:14:40.328744Z",
     "iopub.status.idle": "2022-06-02T10:14:40.341095Z",
     "shell.execute_reply": "2022-06-02T10:14:40.340406Z"
    },
    "papermill": {
     "duration": 0.031208,
     "end_time": "2022-06-02T10:14:40.342866",
     "exception": false,
     "start_time": "2022-06-02T10:14:40.311658",
     "status": "completed"
    },
    "tags": []
   },
   "outputs": [],
   "source": [
    "sub=pd.read_csv(\"../input/chaii-hindi-and-tamil-question-answering/sample_submission.csv\")"
   ]
  },
  {
   "cell_type": "code",
   "execution_count": 43,
   "id": "9be7bc06",
   "metadata": {
    "execution": {
     "iopub.execute_input": "2022-06-02T10:14:40.380647Z",
     "iopub.status.busy": "2022-06-02T10:14:40.379732Z",
     "iopub.status.idle": "2022-06-02T10:14:40.391639Z",
     "shell.execute_reply": "2022-06-02T10:14:40.390892Z"
    },
    "papermill": {
     "duration": 0.035802,
     "end_time": "2022-06-02T10:14:40.396573",
     "exception": false,
     "start_time": "2022-06-02T10:14:40.360771",
     "status": "completed"
    },
    "tags": []
   },
   "outputs": [
    {
     "data": {
      "text/html": [
       "<div>\n",
       "<style scoped>\n",
       "    .dataframe tbody tr th:only-of-type {\n",
       "        vertical-align: middle;\n",
       "    }\n",
       "\n",
       "    .dataframe tbody tr th {\n",
       "        vertical-align: top;\n",
       "    }\n",
       "\n",
       "    .dataframe thead th {\n",
       "        text-align: right;\n",
       "    }\n",
       "</style>\n",
       "<table border=\"1\" class=\"dataframe\">\n",
       "  <thead>\n",
       "    <tr style=\"text-align: right;\">\n",
       "      <th></th>\n",
       "      <th>id</th>\n",
       "      <th>PredictionString</th>\n",
       "    </tr>\n",
       "  </thead>\n",
       "  <tbody>\n",
       "    <tr>\n",
       "      <th>0</th>\n",
       "      <td>22bff3dec</td>\n",
       "      <td>येलन चीन</td>\n",
       "    </tr>\n",
       "    <tr>\n",
       "      <th>1</th>\n",
       "      <td>282758170</td>\n",
       "      <td>20 अप्रैल 2010</td>\n",
       "    </tr>\n",
       "    <tr>\n",
       "      <th>2</th>\n",
       "      <td>d60987e0e</td>\n",
       "      <td>१२ मार्च १८२४</td>\n",
       "    </tr>\n",
       "    <tr>\n",
       "      <th>3</th>\n",
       "      <td>f99c770dc</td>\n",
       "      <td>13</td>\n",
       "    </tr>\n",
       "    <tr>\n",
       "      <th>4</th>\n",
       "      <td>40dec1964</td>\n",
       "      <td>சுவாமிநாதன் மற்றும் வர்கீஸ் குரியன்</td>\n",
       "    </tr>\n",
       "  </tbody>\n",
       "</table>\n",
       "</div>"
      ],
      "text/plain": [
       "          id                     PredictionString\n",
       "0  22bff3dec                             येलन चीन\n",
       "1  282758170                       20 अप्रैल 2010\n",
       "2  d60987e0e                        १२ मार्च १८२४\n",
       "3  f99c770dc                                   13\n",
       "4  40dec1964  சுவாமிநாதன் மற்றும் வர்கீஸ் குரியன்"
      ]
     },
     "execution_count": 43,
     "metadata": {},
     "output_type": "execute_result"
    }
   ],
   "source": [
    "sub['PredictionString'] = sub['id'].apply(lambda r: final_test_predictions[r])\n",
    "sub.head()"
   ]
  },
  {
   "cell_type": "code",
   "execution_count": 44,
   "id": "59de7bcb",
   "metadata": {
    "execution": {
     "iopub.execute_input": "2022-06-02T10:14:40.438521Z",
     "iopub.status.busy": "2022-06-02T10:14:40.438208Z",
     "iopub.status.idle": "2022-06-02T10:14:40.449694Z",
     "shell.execute_reply": "2022-06-02T10:14:40.448691Z"
    },
    "papermill": {
     "duration": 0.03119,
     "end_time": "2022-06-02T10:14:40.452031",
     "exception": false,
     "start_time": "2022-06-02T10:14:40.420841",
     "status": "completed"
    },
    "tags": []
   },
   "outputs": [],
   "source": [
    "sub.to_csv('submission.csv', index=False)"
   ]
  },
  {
   "cell_type": "code",
   "execution_count": null,
   "id": "394ab17c",
   "metadata": {
    "papermill": {
     "duration": 0.016638,
     "end_time": "2022-06-02T10:14:40.486893",
     "exception": false,
     "start_time": "2022-06-02T10:14:40.470255",
     "status": "completed"
    },
    "tags": []
   },
   "outputs": [],
   "source": []
  }
 ],
 "metadata": {
  "kernelspec": {
   "display_name": "Python 3 (ipykernel)",
   "language": "python",
   "name": "python3"
  },
  "language_info": {
   "codemirror_mode": {
    "name": "ipython",
    "version": 3
   },
   "file_extension": ".py",
   "mimetype": "text/x-python",
   "name": "python",
   "nbconvert_exporter": "python",
   "pygments_lexer": "ipython3",
   "version": "3.9.6"
  },
  "papermill": {
   "default_parameters": {},
   "duration": 2316.846493,
   "end_time": "2022-06-02T10:14:43.330983",
   "environment_variables": {},
   "exception": null,
   "input_path": "__notebook__.ipynb",
   "output_path": "__notebook__.ipynb",
   "parameters": {},
   "start_time": "2022-06-02T09:36:06.484490",
   "version": "2.3.4"
  },
  "widgets": {
   "application/vnd.jupyter.widget-state+json": {
    "state": {
     "012ff420559b4a57b8fe34ca334a0178": {
      "model_module": "@jupyter-widgets/controls",
      "model_module_version": "1.5.0",
      "model_name": "HBoxModel",
      "state": {
       "_dom_classes": [],
       "_model_module": "@jupyter-widgets/controls",
       "_model_module_version": "1.5.0",
       "_model_name": "HBoxModel",
       "_view_count": null,
       "_view_module": "@jupyter-widgets/controls",
       "_view_module_version": "1.5.0",
       "_view_name": "HBoxView",
       "box_style": "",
       "children": [
        "IPY_MODEL_0ece067781a94ce9913a260a85487e4c",
        "IPY_MODEL_0391502324e043ef9c93c2304916950c",
        "IPY_MODEL_d665a3f3f609469cb701a648f0639244"
       ],
       "layout": "IPY_MODEL_278e5c2a5cb8444bbb939e6c3dc2ab48"
      }
     },
     "01dc376ef33f403daaf29e64af6fe52a": {
      "model_module": "@jupyter-widgets/base",
      "model_module_version": "1.2.0",
      "model_name": "LayoutModel",
      "state": {
       "_model_module": "@jupyter-widgets/base",
       "_model_module_version": "1.2.0",
       "_model_name": "LayoutModel",
       "_view_count": null,
       "_view_module": "@jupyter-widgets/base",
       "_view_module_version": "1.2.0",
       "_view_name": "LayoutView",
       "align_content": null,
       "align_items": null,
       "align_self": null,
       "border": null,
       "bottom": null,
       "display": null,
       "flex": null,
       "flex_flow": null,
       "grid_area": null,
       "grid_auto_columns": null,
       "grid_auto_flow": null,
       "grid_auto_rows": null,
       "grid_column": null,
       "grid_gap": null,
       "grid_row": null,
       "grid_template_areas": null,
       "grid_template_columns": null,
       "grid_template_rows": null,
       "height": null,
       "justify_content": null,
       "justify_items": null,
       "left": null,
       "margin": null,
       "max_height": null,
       "max_width": null,
       "min_height": null,
       "min_width": null,
       "object_fit": null,
       "object_position": null,
       "order": null,
       "overflow": null,
       "overflow_x": null,
       "overflow_y": null,
       "padding": null,
       "right": null,
       "top": null,
       "visibility": null,
       "width": null
      }
     },
     "0391502324e043ef9c93c2304916950c": {
      "model_module": "@jupyter-widgets/controls",
      "model_module_version": "1.5.0",
      "model_name": "FloatProgressModel",
      "state": {
       "_dom_classes": [],
       "_model_module": "@jupyter-widgets/controls",
       "_model_module_version": "1.5.0",
       "_model_name": "FloatProgressModel",
       "_view_count": null,
       "_view_module": "@jupyter-widgets/controls",
       "_view_module_version": "1.5.0",
       "_view_name": "ProgressView",
       "bar_style": "success",
       "description": "",
       "description_tooltip": null,
       "layout": "IPY_MODEL_11f540aca88e403f804cd33b47e57319",
       "max": 1,
       "min": 0,
       "orientation": "horizontal",
       "style": "IPY_MODEL_530d5afe021f43cfa135d87f29d1be92",
       "value": 1
      }
     },
     "04b06e47581843feb3edafee7e3f7b02": {
      "model_module": "@jupyter-widgets/controls",
      "model_module_version": "1.5.0",
      "model_name": "FloatProgressModel",
      "state": {
       "_dom_classes": [],
       "_model_module": "@jupyter-widgets/controls",
       "_model_module_version": "1.5.0",
       "_model_name": "FloatProgressModel",
       "_view_count": null,
       "_view_module": "@jupyter-widgets/controls",
       "_view_module_version": "1.5.0",
       "_view_name": "ProgressView",
       "bar_style": "success",
       "description": "",
       "description_tooltip": null,
       "layout": "IPY_MODEL_cf2ac789b6664c4f8310e01ad319d1e4",
       "max": 1,
       "min": 0,
       "orientation": "horizontal",
       "style": "IPY_MODEL_cc8e510e01264e1cbad2e5a5d7ebae1d",
       "value": 1
      }
     },
     "05b29f2af68947cdb61f6f875df6e675": {
      "model_module": "@jupyter-widgets/controls",
      "model_module_version": "1.5.0",
      "model_name": "DescriptionStyleModel",
      "state": {
       "_model_module": "@jupyter-widgets/controls",
       "_model_module_version": "1.5.0",
       "_model_name": "DescriptionStyleModel",
       "_view_count": null,
       "_view_module": "@jupyter-widgets/base",
       "_view_module_version": "1.2.0",
       "_view_name": "StyleView",
       "description_width": ""
      }
     },
     "08bd53c53c114b178163aa64c1204cff": {
      "model_module": "@jupyter-widgets/controls",
      "model_module_version": "1.5.0",
      "model_name": "LabelModel",
      "state": {
       "_dom_classes": [],
       "_model_module": "@jupyter-widgets/controls",
       "_model_module_version": "1.5.0",
       "_model_name": "LabelModel",
       "_view_count": null,
       "_view_module": "@jupyter-widgets/controls",
       "_view_module_version": "1.5.0",
       "_view_name": "LabelView",
       "description": "",
       "description_tooltip": null,
       "layout": "IPY_MODEL_563e5e62cf11404abf17c8192d71f632",
       "placeholder": "​",
       "style": "IPY_MODEL_a2fcf81c13b14b11bf5a9430b7949dba",
       "value": ""
      }
     },
     "0981540f8d6948a996a2643cd5e45135": {
      "model_module": "@jupyter-widgets/controls",
      "model_module_version": "1.5.0",
      "model_name": "HBoxModel",
      "state": {
       "_dom_classes": [],
       "_model_module": "@jupyter-widgets/controls",
       "_model_module_version": "1.5.0",
       "_model_name": "HBoxModel",
       "_view_count": null,
       "_view_module": "@jupyter-widgets/controls",
       "_view_module_version": "1.5.0",
       "_view_name": "HBoxView",
       "box_style": "",
       "children": [
        "IPY_MODEL_41e8c807789c425cb5a71f6ba456a7c1",
        "IPY_MODEL_fc6a607c189f4cac884f10d308cdc0da",
        "IPY_MODEL_99fb56ccc60c4a7ca13e5e6f007467ad"
       ],
       "layout": "IPY_MODEL_9a2adb08b9a34e46a4626ca959649b95"
      }
     },
     "0a12a3a675bb4554845e376e502c8db7": {
      "model_module": "@jupyter-widgets/controls",
      "model_module_version": "1.5.0",
      "model_name": "DescriptionStyleModel",
      "state": {
       "_model_module": "@jupyter-widgets/controls",
       "_model_module_version": "1.5.0",
       "_model_name": "DescriptionStyleModel",
       "_view_count": null,
       "_view_module": "@jupyter-widgets/base",
       "_view_module_version": "1.2.0",
       "_view_name": "StyleView",
       "description_width": ""
      }
     },
     "0ae3f12beee5414dbcb06c7a1425dc9b": {
      "model_module": "@jupyter-widgets/controls",
      "model_module_version": "1.5.0",
      "model_name": "DescriptionStyleModel",
      "state": {
       "_model_module": "@jupyter-widgets/controls",
       "_model_module_version": "1.5.0",
       "_model_name": "DescriptionStyleModel",
       "_view_count": null,
       "_view_module": "@jupyter-widgets/base",
       "_view_module_version": "1.2.0",
       "_view_name": "StyleView",
       "description_width": ""
      }
     },
     "0b01be4fb8404b2696b4fda6b93766ae": {
      "model_module": "@jupyter-widgets/controls",
      "model_module_version": "1.5.0",
      "model_name": "ProgressStyleModel",
      "state": {
       "_model_module": "@jupyter-widgets/controls",
       "_model_module_version": "1.5.0",
       "_model_name": "ProgressStyleModel",
       "_view_count": null,
       "_view_module": "@jupyter-widgets/base",
       "_view_module_version": "1.2.0",
       "_view_name": "StyleView",
       "bar_color": null,
       "description_width": ""
      }
     },
     "0ece067781a94ce9913a260a85487e4c": {
      "model_module": "@jupyter-widgets/controls",
      "model_module_version": "1.5.0",
      "model_name": "HTMLModel",
      "state": {
       "_dom_classes": [],
       "_model_module": "@jupyter-widgets/controls",
       "_model_module_version": "1.5.0",
       "_model_name": "HTMLModel",
       "_view_count": null,
       "_view_module": "@jupyter-widgets/controls",
       "_view_module_version": "1.5.0",
       "_view_name": "HTMLView",
       "description": "",
       "description_tooltip": null,
       "layout": "IPY_MODEL_e1c187ec8ad3436eb4d94aeceeba2df2",
       "placeholder": "​",
       "style": "IPY_MODEL_0a12a3a675bb4554845e376e502c8db7",
       "value": "100%"
      }
     },
     "102903ed16a54a33a773ccd9851e053a": {
      "model_module": "@jupyter-widgets/controls",
      "model_module_version": "1.5.0",
      "model_name": "HTMLModel",
      "state": {
       "_dom_classes": [],
       "_model_module": "@jupyter-widgets/controls",
       "_model_module_version": "1.5.0",
       "_model_name": "HTMLModel",
       "_view_count": null,
       "_view_module": "@jupyter-widgets/controls",
       "_view_module_version": "1.5.0",
       "_view_name": "HTMLView",
       "description": "",
       "description_tooltip": null,
       "layout": "IPY_MODEL_126e530607cf497b86a525ebc4f5852b",
       "placeholder": "​",
       "style": "IPY_MODEL_9c501a4dec9b4ad5b70cf7999d0fe47d",
       "value": "100%"
      }
     },
     "11a220dc954443ab8c5471cf5acf9882": {
      "model_module": "@jupyter-widgets/controls",
      "model_module_version": "1.5.0",
      "model_name": "ProgressStyleModel",
      "state": {
       "_model_module": "@jupyter-widgets/controls",
       "_model_module_version": "1.5.0",
       "_model_name": "ProgressStyleModel",
       "_view_count": null,
       "_view_module": "@jupyter-widgets/base",
       "_view_module_version": "1.2.0",
       "_view_name": "StyleView",
       "bar_color": null,
       "description_width": ""
      }
     },
     "11f540aca88e403f804cd33b47e57319": {
      "model_module": "@jupyter-widgets/base",
      "model_module_version": "1.2.0",
      "model_name": "LayoutModel",
      "state": {
       "_model_module": "@jupyter-widgets/base",
       "_model_module_version": "1.2.0",
       "_model_name": "LayoutModel",
       "_view_count": null,
       "_view_module": "@jupyter-widgets/base",
       "_view_module_version": "1.2.0",
       "_view_name": "LayoutView",
       "align_content": null,
       "align_items": null,
       "align_self": null,
       "border": null,
       "bottom": null,
       "display": null,
       "flex": null,
       "flex_flow": null,
       "grid_area": null,
       "grid_auto_columns": null,
       "grid_auto_flow": null,
       "grid_auto_rows": null,
       "grid_column": null,
       "grid_gap": null,
       "grid_row": null,
       "grid_template_areas": null,
       "grid_template_columns": null,
       "grid_template_rows": null,
       "height": null,
       "justify_content": null,
       "justify_items": null,
       "left": null,
       "margin": null,
       "max_height": null,
       "max_width": null,
       "min_height": null,
       "min_width": null,
       "object_fit": null,
       "object_position": null,
       "order": null,
       "overflow": null,
       "overflow_x": null,
       "overflow_y": null,
       "padding": null,
       "right": null,
       "top": null,
       "visibility": null,
       "width": null
      }
     },
     "124569fca7bc4e7d89d45d985ded598c": {
      "model_module": "@jupyter-widgets/base",
      "model_module_version": "1.2.0",
      "model_name": "LayoutModel",
      "state": {
       "_model_module": "@jupyter-widgets/base",
       "_model_module_version": "1.2.0",
       "_model_name": "LayoutModel",
       "_view_count": null,
       "_view_module": "@jupyter-widgets/base",
       "_view_module_version": "1.2.0",
       "_view_name": "LayoutView",
       "align_content": null,
       "align_items": null,
       "align_self": null,
       "border": null,
       "bottom": null,
       "display": null,
       "flex": null,
       "flex_flow": null,
       "grid_area": null,
       "grid_auto_columns": null,
       "grid_auto_flow": null,
       "grid_auto_rows": null,
       "grid_column": null,
       "grid_gap": null,
       "grid_row": null,
       "grid_template_areas": null,
       "grid_template_columns": null,
       "grid_template_rows": null,
       "height": null,
       "justify_content": null,
       "justify_items": null,
       "left": null,
       "margin": null,
       "max_height": null,
       "max_width": null,
       "min_height": null,
       "min_width": null,
       "object_fit": null,
       "object_position": null,
       "order": null,
       "overflow": null,
       "overflow_x": null,
       "overflow_y": null,
       "padding": null,
       "right": null,
       "top": null,
       "visibility": null,
       "width": null
      }
     },
     "126e530607cf497b86a525ebc4f5852b": {
      "model_module": "@jupyter-widgets/base",
      "model_module_version": "1.2.0",
      "model_name": "LayoutModel",
      "state": {
       "_model_module": "@jupyter-widgets/base",
       "_model_module_version": "1.2.0",
       "_model_name": "LayoutModel",
       "_view_count": null,
       "_view_module": "@jupyter-widgets/base",
       "_view_module_version": "1.2.0",
       "_view_name": "LayoutView",
       "align_content": null,
       "align_items": null,
       "align_self": null,
       "border": null,
       "bottom": null,
       "display": null,
       "flex": null,
       "flex_flow": null,
       "grid_area": null,
       "grid_auto_columns": null,
       "grid_auto_flow": null,
       "grid_auto_rows": null,
       "grid_column": null,
       "grid_gap": null,
       "grid_row": null,
       "grid_template_areas": null,
       "grid_template_columns": null,
       "grid_template_rows": null,
       "height": null,
       "justify_content": null,
       "justify_items": null,
       "left": null,
       "margin": null,
       "max_height": null,
       "max_width": null,
       "min_height": null,
       "min_width": null,
       "object_fit": null,
       "object_position": null,
       "order": null,
       "overflow": null,
       "overflow_x": null,
       "overflow_y": null,
       "padding": null,
       "right": null,
       "top": null,
       "visibility": null,
       "width": null
      }
     },
     "1fdc1fb8983949439bcbe2f91c7532ac": {
      "model_module": "@jupyter-widgets/controls",
      "model_module_version": "1.5.0",
      "model_name": "HTMLModel",
      "state": {
       "_dom_classes": [],
       "_model_module": "@jupyter-widgets/controls",
       "_model_module_version": "1.5.0",
       "_model_name": "HTMLModel",
       "_view_count": null,
       "_view_module": "@jupyter-widgets/controls",
       "_view_module_version": "1.5.0",
       "_view_name": "HTMLView",
       "description": "",
       "description_tooltip": null,
       "layout": "IPY_MODEL_84b2a34c721442b399d121d2fdcf42b5",
       "placeholder": "​",
       "style": "IPY_MODEL_791d72b57d69477f994630c042d840a3",
       "value": "100%"
      }
     },
     "249a0a39d1144b97940173dabb0395cd": {
      "model_module": "@jupyter-widgets/base",
      "model_module_version": "1.2.0",
      "model_name": "LayoutModel",
      "state": {
       "_model_module": "@jupyter-widgets/base",
       "_model_module_version": "1.2.0",
       "_model_name": "LayoutModel",
       "_view_count": null,
       "_view_module": "@jupyter-widgets/base",
       "_view_module_version": "1.2.0",
       "_view_name": "LayoutView",
       "align_content": null,
       "align_items": null,
       "align_self": null,
       "border": null,
       "bottom": null,
       "display": null,
       "flex": null,
       "flex_flow": null,
       "grid_area": null,
       "grid_auto_columns": null,
       "grid_auto_flow": null,
       "grid_auto_rows": null,
       "grid_column": null,
       "grid_gap": null,
       "grid_row": null,
       "grid_template_areas": null,
       "grid_template_columns": null,
       "grid_template_rows": null,
       "height": null,
       "justify_content": null,
       "justify_items": null,
       "left": null,
       "margin": null,
       "max_height": null,
       "max_width": null,
       "min_height": null,
       "min_width": null,
       "object_fit": null,
       "object_position": null,
       "order": null,
       "overflow": null,
       "overflow_x": null,
       "overflow_y": null,
       "padding": null,
       "right": null,
       "top": null,
       "visibility": null,
       "width": null
      }
     },
     "278e5c2a5cb8444bbb939e6c3dc2ab48": {
      "model_module": "@jupyter-widgets/base",
      "model_module_version": "1.2.0",
      "model_name": "LayoutModel",
      "state": {
       "_model_module": "@jupyter-widgets/base",
       "_model_module_version": "1.2.0",
       "_model_name": "LayoutModel",
       "_view_count": null,
       "_view_module": "@jupyter-widgets/base",
       "_view_module_version": "1.2.0",
       "_view_name": "LayoutView",
       "align_content": null,
       "align_items": null,
       "align_self": null,
       "border": null,
       "bottom": null,
       "display": null,
       "flex": null,
       "flex_flow": null,
       "grid_area": null,
       "grid_auto_columns": null,
       "grid_auto_flow": null,
       "grid_auto_rows": null,
       "grid_column": null,
       "grid_gap": null,
       "grid_row": null,
       "grid_template_areas": null,
       "grid_template_columns": null,
       "grid_template_rows": null,
       "height": null,
       "justify_content": null,
       "justify_items": null,
       "left": null,
       "margin": null,
       "max_height": null,
       "max_width": null,
       "min_height": null,
       "min_width": null,
       "object_fit": null,
       "object_position": null,
       "order": null,
       "overflow": null,
       "overflow_x": null,
       "overflow_y": null,
       "padding": null,
       "right": null,
       "top": null,
       "visibility": null,
       "width": null
      }
     },
     "2cc0ff91522c4caa9e8c90ad03767fa9": {
      "model_module": "@jupyter-widgets/controls",
      "model_module_version": "1.5.0",
      "model_name": "ProgressStyleModel",
      "state": {
       "_model_module": "@jupyter-widgets/controls",
       "_model_module_version": "1.5.0",
       "_model_name": "ProgressStyleModel",
       "_view_count": null,
       "_view_module": "@jupyter-widgets/base",
       "_view_module_version": "1.2.0",
       "_view_name": "StyleView",
       "bar_color": null,
       "description_width": ""
      }
     },
     "2ce62065c0b94155a1496fa127cc9711": {
      "model_module": "@jupyter-widgets/controls",
      "model_module_version": "1.5.0",
      "model_name": "FloatProgressModel",
      "state": {
       "_dom_classes": [],
       "_model_module": "@jupyter-widgets/controls",
       "_model_module_version": "1.5.0",
       "_model_name": "FloatProgressModel",
       "_view_count": null,
       "_view_module": "@jupyter-widgets/controls",
       "_view_module_version": "1.5.0",
       "_view_name": "ProgressView",
       "bar_style": "success",
       "description": "",
       "description_tooltip": null,
       "layout": "IPY_MODEL_bd163ada05cd4304ab397d8c48688578",
       "max": 5,
       "min": 0,
       "orientation": "horizontal",
       "style": "IPY_MODEL_54e81ec896b643389cdf0924cc9deedd",
       "value": 5
      }
     },
     "2f35f1adcad7425ca8f38772c0896133": {
      "model_module": "@jupyter-widgets/base",
      "model_module_version": "1.2.0",
      "model_name": "LayoutModel",
      "state": {
       "_model_module": "@jupyter-widgets/base",
       "_model_module_version": "1.2.0",
       "_model_name": "LayoutModel",
       "_view_count": null,
       "_view_module": "@jupyter-widgets/base",
       "_view_module_version": "1.2.0",
       "_view_name": "LayoutView",
       "align_content": null,
       "align_items": null,
       "align_self": null,
       "border": null,
       "bottom": null,
       "display": null,
       "flex": null,
       "flex_flow": null,
       "grid_area": null,
       "grid_auto_columns": null,
       "grid_auto_flow": null,
       "grid_auto_rows": null,
       "grid_column": null,
       "grid_gap": null,
       "grid_row": null,
       "grid_template_areas": null,
       "grid_template_columns": null,
       "grid_template_rows": null,
       "height": null,
       "justify_content": null,
       "justify_items": null,
       "left": null,
       "margin": null,
       "max_height": null,
       "max_width": null,
       "min_height": null,
       "min_width": null,
       "object_fit": null,
       "object_position": null,
       "order": null,
       "overflow": null,
       "overflow_x": null,
       "overflow_y": null,
       "padding": null,
       "right": null,
       "top": null,
       "visibility": null,
       "width": null
      }
     },
     "31dc163f708042a0950e0d52528bcbc9": {
      "model_module": "@jupyter-widgets/base",
      "model_module_version": "1.2.0",
      "model_name": "LayoutModel",
      "state": {
       "_model_module": "@jupyter-widgets/base",
       "_model_module_version": "1.2.0",
       "_model_name": "LayoutModel",
       "_view_count": null,
       "_view_module": "@jupyter-widgets/base",
       "_view_module_version": "1.2.0",
       "_view_name": "LayoutView",
       "align_content": null,
       "align_items": null,
       "align_self": null,
       "border": null,
       "bottom": null,
       "display": null,
       "flex": null,
       "flex_flow": null,
       "grid_area": null,
       "grid_auto_columns": null,
       "grid_auto_flow": null,
       "grid_auto_rows": null,
       "grid_column": null,
       "grid_gap": null,
       "grid_row": null,
       "grid_template_areas": null,
       "grid_template_columns": null,
       "grid_template_rows": null,
       "height": null,
       "justify_content": null,
       "justify_items": null,
       "left": null,
       "margin": null,
       "max_height": null,
       "max_width": null,
       "min_height": null,
       "min_width": null,
       "object_fit": null,
       "object_position": null,
       "order": null,
       "overflow": null,
       "overflow_x": null,
       "overflow_y": null,
       "padding": null,
       "right": null,
       "top": null,
       "visibility": null,
       "width": null
      }
     },
     "34efe967068348b9a33de953389fd1aa": {
      "model_module": "@jupyter-widgets/base",
      "model_module_version": "1.2.0",
      "model_name": "LayoutModel",
      "state": {
       "_model_module": "@jupyter-widgets/base",
       "_model_module_version": "1.2.0",
       "_model_name": "LayoutModel",
       "_view_count": null,
       "_view_module": "@jupyter-widgets/base",
       "_view_module_version": "1.2.0",
       "_view_name": "LayoutView",
       "align_content": null,
       "align_items": null,
       "align_self": null,
       "border": null,
       "bottom": null,
       "display": null,
       "flex": null,
       "flex_flow": null,
       "grid_area": null,
       "grid_auto_columns": null,
       "grid_auto_flow": null,
       "grid_auto_rows": null,
       "grid_column": null,
       "grid_gap": null,
       "grid_row": null,
       "grid_template_areas": null,
       "grid_template_columns": null,
       "grid_template_rows": null,
       "height": null,
       "justify_content": null,
       "justify_items": null,
       "left": null,
       "margin": null,
       "max_height": null,
       "max_width": null,
       "min_height": null,
       "min_width": null,
       "object_fit": null,
       "object_position": null,
       "order": null,
       "overflow": null,
       "overflow_x": null,
       "overflow_y": null,
       "padding": null,
       "right": null,
       "top": null,
       "visibility": null,
       "width": null
      }
     },
     "38cf452f72a246bb8d2a440aaceb9250": {
      "model_module": "@jupyter-widgets/base",
      "model_module_version": "1.2.0",
      "model_name": "LayoutModel",
      "state": {
       "_model_module": "@jupyter-widgets/base",
       "_model_module_version": "1.2.0",
       "_model_name": "LayoutModel",
       "_view_count": null,
       "_view_module": "@jupyter-widgets/base",
       "_view_module_version": "1.2.0",
       "_view_name": "LayoutView",
       "align_content": null,
       "align_items": null,
       "align_self": null,
       "border": null,
       "bottom": null,
       "display": null,
       "flex": null,
       "flex_flow": null,
       "grid_area": null,
       "grid_auto_columns": null,
       "grid_auto_flow": null,
       "grid_auto_rows": null,
       "grid_column": null,
       "grid_gap": null,
       "grid_row": null,
       "grid_template_areas": null,
       "grid_template_columns": null,
       "grid_template_rows": null,
       "height": null,
       "justify_content": null,
       "justify_items": null,
       "left": null,
       "margin": null,
       "max_height": null,
       "max_width": null,
       "min_height": null,
       "min_width": null,
       "object_fit": null,
       "object_position": null,
       "order": null,
       "overflow": null,
       "overflow_x": null,
       "overflow_y": null,
       "padding": null,
       "right": null,
       "top": null,
       "visibility": null,
       "width": null
      }
     },
     "3a1d247506a8432b8ca4e3eacd86dc13": {
      "model_module": "@jupyter-widgets/controls",
      "model_module_version": "1.5.0",
      "model_name": "HBoxModel",
      "state": {
       "_dom_classes": [],
       "_model_module": "@jupyter-widgets/controls",
       "_model_module_version": "1.5.0",
       "_model_name": "HBoxModel",
       "_view_count": null,
       "_view_module": "@jupyter-widgets/controls",
       "_view_module_version": "1.5.0",
       "_view_name": "HBoxView",
       "box_style": "",
       "children": [
        "IPY_MODEL_1fdc1fb8983949439bcbe2f91c7532ac",
        "IPY_MODEL_f72d3f98dfd841848595ab7eb9f75e67",
        "IPY_MODEL_a53c51769ca54130828e19899393a2df"
       ],
       "layout": "IPY_MODEL_cf9744a4a5074aac95f283005826f90f"
      }
     },
     "3bdbec89144740a18fe25cbf7983394a": {
      "model_module": "@jupyter-widgets/controls",
      "model_module_version": "1.5.0",
      "model_name": "HTMLModel",
      "state": {
       "_dom_classes": [],
       "_model_module": "@jupyter-widgets/controls",
       "_model_module_version": "1.5.0",
       "_model_name": "HTMLModel",
       "_view_count": null,
       "_view_module": "@jupyter-widgets/controls",
       "_view_module_version": "1.5.0",
       "_view_name": "HTMLView",
       "description": "",
       "description_tooltip": null,
       "layout": "IPY_MODEL_d8dfb95a59034c27a8a8c69bc50364d9",
       "placeholder": "​",
       "style": "IPY_MODEL_4be4f686981f4808acf92d25abd9d40c",
       "value": "100%"
      }
     },
     "403c83d3f69e4b9b9c6e2d6c40591474": {
      "model_module": "@jupyter-widgets/controls",
      "model_module_version": "1.5.0",
      "model_name": "HBoxModel",
      "state": {
       "_dom_classes": [],
       "_model_module": "@jupyter-widgets/controls",
       "_model_module_version": "1.5.0",
       "_model_name": "HBoxModel",
       "_view_count": null,
       "_view_module": "@jupyter-widgets/controls",
       "_view_module_version": "1.5.0",
       "_view_name": "HBoxView",
       "box_style": "",
       "children": [
        "IPY_MODEL_67dd7b80a6e445458c0e3399dc872c3c",
        "IPY_MODEL_4deddd5c61354b2984fca31848880339",
        "IPY_MODEL_ad6634feece34deabd9aa068b1205ffb"
       ],
       "layout": "IPY_MODEL_6468265d171f480292833e0830983cb3"
      }
     },
     "41e8c807789c425cb5a71f6ba456a7c1": {
      "model_module": "@jupyter-widgets/controls",
      "model_module_version": "1.5.0",
      "model_name": "HTMLModel",
      "state": {
       "_dom_classes": [],
       "_model_module": "@jupyter-widgets/controls",
       "_model_module_version": "1.5.0",
       "_model_name": "HTMLModel",
       "_view_count": null,
       "_view_module": "@jupyter-widgets/controls",
       "_view_module_version": "1.5.0",
       "_view_name": "HTMLView",
       "description": "",
       "description_tooltip": null,
       "layout": "IPY_MODEL_ea44eecb8c5f41b8b6d504bab53fb182",
       "placeholder": "​",
       "style": "IPY_MODEL_9f40b75e8423475e8068956244c01d47",
       "value": "100%"
      }
     },
     "48480ec3f8c24ab2a2b0fdec5190e78d": {
      "model_module": "@jupyter-widgets/base",
      "model_module_version": "1.2.0",
      "model_name": "LayoutModel",
      "state": {
       "_model_module": "@jupyter-widgets/base",
       "_model_module_version": "1.2.0",
       "_model_name": "LayoutModel",
       "_view_count": null,
       "_view_module": "@jupyter-widgets/base",
       "_view_module_version": "1.2.0",
       "_view_name": "LayoutView",
       "align_content": null,
       "align_items": null,
       "align_self": null,
       "border": null,
       "bottom": null,
       "display": null,
       "flex": null,
       "flex_flow": null,
       "grid_area": null,
       "grid_auto_columns": null,
       "grid_auto_flow": null,
       "grid_auto_rows": null,
       "grid_column": null,
       "grid_gap": null,
       "grid_row": null,
       "grid_template_areas": null,
       "grid_template_columns": null,
       "grid_template_rows": null,
       "height": null,
       "justify_content": null,
       "justify_items": null,
       "left": null,
       "margin": null,
       "max_height": null,
       "max_width": null,
       "min_height": null,
       "min_width": null,
       "object_fit": null,
       "object_position": null,
       "order": null,
       "overflow": null,
       "overflow_x": null,
       "overflow_y": null,
       "padding": null,
       "right": null,
       "top": null,
       "visibility": null,
       "width": null
      }
     },
     "4a99f81a7c994ee5884c816fee32f1a2": {
      "model_module": "@jupyter-widgets/controls",
      "model_module_version": "1.5.0",
      "model_name": "FloatProgressModel",
      "state": {
       "_dom_classes": [],
       "_model_module": "@jupyter-widgets/controls",
       "_model_module_version": "1.5.0",
       "_model_name": "FloatProgressModel",
       "_view_count": null,
       "_view_module": "@jupyter-widgets/controls",
       "_view_module_version": "1.5.0",
       "_view_name": "ProgressView",
       "bar_style": "success",
       "description": "",
       "description_tooltip": null,
       "layout": "IPY_MODEL_e4c50611ecbc42739b38800ad1838227",
       "max": 2,
       "min": 0,
       "orientation": "horizontal",
       "style": "IPY_MODEL_de26d8a7279240738d9083938c6cbdfc",
       "value": 2
      }
     },
     "4be4f686981f4808acf92d25abd9d40c": {
      "model_module": "@jupyter-widgets/controls",
      "model_module_version": "1.5.0",
      "model_name": "DescriptionStyleModel",
      "state": {
       "_model_module": "@jupyter-widgets/controls",
       "_model_module_version": "1.5.0",
       "_model_name": "DescriptionStyleModel",
       "_view_count": null,
       "_view_module": "@jupyter-widgets/base",
       "_view_module_version": "1.2.0",
       "_view_name": "StyleView",
       "description_width": ""
      }
     },
     "4deddd5c61354b2984fca31848880339": {
      "model_module": "@jupyter-widgets/controls",
      "model_module_version": "1.5.0",
      "model_name": "FloatProgressModel",
      "state": {
       "_dom_classes": [],
       "_model_module": "@jupyter-widgets/controls",
       "_model_module_version": "1.5.0",
       "_model_name": "FloatProgressModel",
       "_view_count": null,
       "_view_module": "@jupyter-widgets/controls",
       "_view_module_version": "1.5.0",
       "_view_name": "ProgressView",
       "bar_style": "success",
       "description": "",
       "description_tooltip": null,
       "layout": "IPY_MODEL_61a3099136db44108435716c06a5b2b9",
       "max": 67,
       "min": 0,
       "orientation": "horizontal",
       "style": "IPY_MODEL_11a220dc954443ab8c5471cf5acf9882",
       "value": 67
      }
     },
     "501a1da2de8041549d7c04d4ed0e2c25": {
      "model_module": "@jupyter-widgets/controls",
      "model_module_version": "1.5.0",
      "model_name": "HTMLModel",
      "state": {
       "_dom_classes": [],
       "_model_module": "@jupyter-widgets/controls",
       "_model_module_version": "1.5.0",
       "_model_name": "HTMLModel",
       "_view_count": null,
       "_view_module": "@jupyter-widgets/controls",
       "_view_module_version": "1.5.0",
       "_view_name": "HTMLView",
       "description": "",
       "description_tooltip": null,
       "layout": "IPY_MODEL_124569fca7bc4e7d89d45d985ded598c",
       "placeholder": "​",
       "style": "IPY_MODEL_a15ae7dc57c242899786b616e26ef22d",
       "value": " 816/816 [00:01&lt;00:00, 513.90ex/s]"
      }
     },
     "5022c63764de4a1faa0e71b4bd6bce56": {
      "model_module": "@jupyter-widgets/controls",
      "model_module_version": "1.5.0",
      "model_name": "HTMLModel",
      "state": {
       "_dom_classes": [],
       "_model_module": "@jupyter-widgets/controls",
       "_model_module_version": "1.5.0",
       "_model_name": "HTMLModel",
       "_view_count": null,
       "_view_module": "@jupyter-widgets/controls",
       "_view_module_version": "1.5.0",
       "_view_name": "HTMLView",
       "description": "",
       "description_tooltip": null,
       "layout": "IPY_MODEL_01dc376ef33f403daaf29e64af6fe52a",
       "placeholder": "​",
       "style": "IPY_MODEL_fabc85c06b3f4c0cbe775f73c0403cd4",
       "value": "100%"
      }
     },
     "530d5afe021f43cfa135d87f29d1be92": {
      "model_module": "@jupyter-widgets/controls",
      "model_module_version": "1.5.0",
      "model_name": "ProgressStyleModel",
      "state": {
       "_model_module": "@jupyter-widgets/controls",
       "_model_module_version": "1.5.0",
       "_model_name": "ProgressStyleModel",
       "_view_count": null,
       "_view_module": "@jupyter-widgets/base",
       "_view_module_version": "1.2.0",
       "_view_name": "StyleView",
       "bar_color": null,
       "description_width": ""
      }
     },
     "53300e94ce5142eda511768ef7a9fc51": {
      "model_module": "@jupyter-widgets/controls",
      "model_module_version": "1.5.0",
      "model_name": "HTMLModel",
      "state": {
       "_dom_classes": [],
       "_model_module": "@jupyter-widgets/controls",
       "_model_module_version": "1.5.0",
       "_model_name": "HTMLModel",
       "_view_count": null,
       "_view_module": "@jupyter-widgets/controls",
       "_view_module_version": "1.5.0",
       "_view_name": "HTMLView",
       "description": "",
       "description_tooltip": null,
       "layout": "IPY_MODEL_2f35f1adcad7425ca8f38772c0896133",
       "placeholder": "​",
       "style": "IPY_MODEL_ae86e857e3a9491ba8568e8e9845703c",
       "value": " 5/5 [00:00&lt;00:00,  9.07it/s]"
      }
     },
     "54e81ec896b643389cdf0924cc9deedd": {
      "model_module": "@jupyter-widgets/controls",
      "model_module_version": "1.5.0",
      "model_name": "ProgressStyleModel",
      "state": {
       "_model_module": "@jupyter-widgets/controls",
       "_model_module_version": "1.5.0",
       "_model_name": "ProgressStyleModel",
       "_view_count": null,
       "_view_module": "@jupyter-widgets/base",
       "_view_module_version": "1.2.0",
       "_view_name": "StyleView",
       "bar_color": null,
       "description_width": ""
      }
     },
     "563e5e62cf11404abf17c8192d71f632": {
      "model_module": "@jupyter-widgets/base",
      "model_module_version": "1.2.0",
      "model_name": "LayoutModel",
      "state": {
       "_model_module": "@jupyter-widgets/base",
       "_model_module_version": "1.2.0",
       "_model_name": "LayoutModel",
       "_view_count": null,
       "_view_module": "@jupyter-widgets/base",
       "_view_module_version": "1.2.0",
       "_view_name": "LayoutView",
       "align_content": null,
       "align_items": null,
       "align_self": null,
       "border": null,
       "bottom": null,
       "display": null,
       "flex": null,
       "flex_flow": null,
       "grid_area": null,
       "grid_auto_columns": null,
       "grid_auto_flow": null,
       "grid_auto_rows": null,
       "grid_column": null,
       "grid_gap": null,
       "grid_row": null,
       "grid_template_areas": null,
       "grid_template_columns": null,
       "grid_template_rows": null,
       "height": null,
       "justify_content": null,
       "justify_items": null,
       "left": null,
       "margin": null,
       "max_height": null,
       "max_width": null,
       "min_height": null,
       "min_width": null,
       "object_fit": null,
       "object_position": null,
       "order": null,
       "overflow": null,
       "overflow_x": null,
       "overflow_y": null,
       "padding": null,
       "right": null,
       "top": null,
       "visibility": null,
       "width": null
      }
     },
     "5aacd4e330db4091a24f88201ed553b5": {
      "model_module": "@jupyter-widgets/base",
      "model_module_version": "1.2.0",
      "model_name": "LayoutModel",
      "state": {
       "_model_module": "@jupyter-widgets/base",
       "_model_module_version": "1.2.0",
       "_model_name": "LayoutModel",
       "_view_count": null,
       "_view_module": "@jupyter-widgets/base",
       "_view_module_version": "1.2.0",
       "_view_name": "LayoutView",
       "align_content": null,
       "align_items": null,
       "align_self": null,
       "border": null,
       "bottom": null,
       "display": null,
       "flex": null,
       "flex_flow": null,
       "grid_area": null,
       "grid_auto_columns": null,
       "grid_auto_flow": null,
       "grid_auto_rows": null,
       "grid_column": null,
       "grid_gap": null,
       "grid_row": null,
       "grid_template_areas": null,
       "grid_template_columns": null,
       "grid_template_rows": null,
       "height": null,
       "justify_content": null,
       "justify_items": null,
       "left": null,
       "margin": null,
       "max_height": null,
       "max_width": null,
       "min_height": null,
       "min_width": null,
       "object_fit": null,
       "object_position": null,
       "order": null,
       "overflow": null,
       "overflow_x": null,
       "overflow_y": null,
       "padding": null,
       "right": null,
       "top": null,
       "visibility": null,
       "width": null
      }
     },
     "61a3099136db44108435716c06a5b2b9": {
      "model_module": "@jupyter-widgets/base",
      "model_module_version": "1.2.0",
      "model_name": "LayoutModel",
      "state": {
       "_model_module": "@jupyter-widgets/base",
       "_model_module_version": "1.2.0",
       "_model_name": "LayoutModel",
       "_view_count": null,
       "_view_module": "@jupyter-widgets/base",
       "_view_module_version": "1.2.0",
       "_view_name": "LayoutView",
       "align_content": null,
       "align_items": null,
       "align_self": null,
       "border": null,
       "bottom": null,
       "display": null,
       "flex": null,
       "flex_flow": null,
       "grid_area": null,
       "grid_auto_columns": null,
       "grid_auto_flow": null,
       "grid_auto_rows": null,
       "grid_column": null,
       "grid_gap": null,
       "grid_row": null,
       "grid_template_areas": null,
       "grid_template_columns": null,
       "grid_template_rows": null,
       "height": null,
       "justify_content": null,
       "justify_items": null,
       "left": null,
       "margin": null,
       "max_height": null,
       "max_width": null,
       "min_height": null,
       "min_width": null,
       "object_fit": null,
       "object_position": null,
       "order": null,
       "overflow": null,
       "overflow_x": null,
       "overflow_y": null,
       "padding": null,
       "right": null,
       "top": null,
       "visibility": null,
       "width": null
      }
     },
     "6230e63fba194850b8284a139ab86cdf": {
      "model_module": "@jupyter-widgets/controls",
      "model_module_version": "1.5.0",
      "model_name": "FloatProgressModel",
      "state": {
       "_dom_classes": [],
       "_model_module": "@jupyter-widgets/controls",
       "_model_module_version": "1.5.0",
       "_model_name": "FloatProgressModel",
       "_view_count": null,
       "_view_module": "@jupyter-widgets/controls",
       "_view_module_version": "1.5.0",
       "_view_name": "ProgressView",
       "bar_style": "success",
       "description": "",
       "description_tooltip": null,
       "layout": "IPY_MODEL_34efe967068348b9a33de953389fd1aa",
       "max": 816,
       "min": 0,
       "orientation": "horizontal",
       "style": "IPY_MODEL_69e1128a302f443cb183293e128bed51",
       "value": 816
      }
     },
     "6468265d171f480292833e0830983cb3": {
      "model_module": "@jupyter-widgets/base",
      "model_module_version": "1.2.0",
      "model_name": "LayoutModel",
      "state": {
       "_model_module": "@jupyter-widgets/base",
       "_model_module_version": "1.2.0",
       "_model_name": "LayoutModel",
       "_view_count": null,
       "_view_module": "@jupyter-widgets/base",
       "_view_module_version": "1.2.0",
       "_view_name": "LayoutView",
       "align_content": null,
       "align_items": null,
       "align_self": null,
       "border": null,
       "bottom": null,
       "display": null,
       "flex": null,
       "flex_flow": null,
       "grid_area": null,
       "grid_auto_columns": null,
       "grid_auto_flow": null,
       "grid_auto_rows": null,
       "grid_column": null,
       "grid_gap": null,
       "grid_row": null,
       "grid_template_areas": null,
       "grid_template_columns": null,
       "grid_template_rows": null,
       "height": null,
       "justify_content": null,
       "justify_items": null,
       "left": null,
       "margin": null,
       "max_height": null,
       "max_width": null,
       "min_height": null,
       "min_width": null,
       "object_fit": null,
       "object_position": null,
       "order": null,
       "overflow": null,
       "overflow_x": null,
       "overflow_y": null,
       "padding": null,
       "right": null,
       "top": null,
       "visibility": null,
       "width": null
      }
     },
     "67dd7b80a6e445458c0e3399dc872c3c": {
      "model_module": "@jupyter-widgets/controls",
      "model_module_version": "1.5.0",
      "model_name": "HTMLModel",
      "state": {
       "_dom_classes": [],
       "_model_module": "@jupyter-widgets/controls",
       "_model_module_version": "1.5.0",
       "_model_name": "HTMLModel",
       "_view_count": null,
       "_view_module": "@jupyter-widgets/controls",
       "_view_module_version": "1.5.0",
       "_view_name": "HTMLView",
       "description": "",
       "description_tooltip": null,
       "layout": "IPY_MODEL_b43d0c2e817640e891b8b6e236116ca6",
       "placeholder": "​",
       "style": "IPY_MODEL_05b29f2af68947cdb61f6f875df6e675",
       "value": "100%"
      }
     },
     "69e1128a302f443cb183293e128bed51": {
      "model_module": "@jupyter-widgets/controls",
      "model_module_version": "1.5.0",
      "model_name": "ProgressStyleModel",
      "state": {
       "_model_module": "@jupyter-widgets/controls",
       "_model_module_version": "1.5.0",
       "_model_name": "ProgressStyleModel",
       "_view_count": null,
       "_view_module": "@jupyter-widgets/base",
       "_view_module_version": "1.2.0",
       "_view_name": "StyleView",
       "bar_color": null,
       "description_width": ""
      }
     },
     "791d72b57d69477f994630c042d840a3": {
      "model_module": "@jupyter-widgets/controls",
      "model_module_version": "1.5.0",
      "model_name": "DescriptionStyleModel",
      "state": {
       "_model_module": "@jupyter-widgets/controls",
       "_model_module_version": "1.5.0",
       "_model_name": "DescriptionStyleModel",
       "_view_count": null,
       "_view_module": "@jupyter-widgets/base",
       "_view_module_version": "1.2.0",
       "_view_name": "StyleView",
       "description_width": ""
      }
     },
     "81b44588e4bd427d951506de96b1618c": {
      "model_module": "@jupyter-widgets/controls",
      "model_module_version": "1.5.0",
      "model_name": "HBoxModel",
      "state": {
       "_dom_classes": [],
       "_model_module": "@jupyter-widgets/controls",
       "_model_module_version": "1.5.0",
       "_model_name": "HBoxModel",
       "_view_count": null,
       "_view_module": "@jupyter-widgets/controls",
       "_view_module_version": "1.5.0",
       "_view_name": "HBoxView",
       "box_style": "",
       "children": [
        "IPY_MODEL_102903ed16a54a33a773ccd9851e053a",
        "IPY_MODEL_4a99f81a7c994ee5884c816fee32f1a2",
        "IPY_MODEL_991e7109867d40029be944a135908d08"
       ],
       "layout": "IPY_MODEL_31dc163f708042a0950e0d52528bcbc9"
      }
     },
     "840278dd404c409686b03b7c380d2f13": {
      "model_module": "@jupyter-widgets/base",
      "model_module_version": "1.2.0",
      "model_name": "LayoutModel",
      "state": {
       "_model_module": "@jupyter-widgets/base",
       "_model_module_version": "1.2.0",
       "_model_name": "LayoutModel",
       "_view_count": null,
       "_view_module": "@jupyter-widgets/base",
       "_view_module_version": "1.2.0",
       "_view_name": "LayoutView",
       "align_content": null,
       "align_items": null,
       "align_self": null,
       "border": null,
       "bottom": null,
       "display": null,
       "flex": null,
       "flex_flow": null,
       "grid_area": null,
       "grid_auto_columns": null,
       "grid_auto_flow": null,
       "grid_auto_rows": null,
       "grid_column": null,
       "grid_gap": null,
       "grid_row": null,
       "grid_template_areas": null,
       "grid_template_columns": null,
       "grid_template_rows": null,
       "height": null,
       "justify_content": null,
       "justify_items": null,
       "left": null,
       "margin": null,
       "max_height": null,
       "max_width": null,
       "min_height": null,
       "min_width": null,
       "object_fit": null,
       "object_position": null,
       "order": null,
       "overflow": null,
       "overflow_x": null,
       "overflow_y": null,
       "padding": null,
       "right": null,
       "top": null,
       "visibility": null,
       "width": null
      }
     },
     "84b2a34c721442b399d121d2fdcf42b5": {
      "model_module": "@jupyter-widgets/base",
      "model_module_version": "1.2.0",
      "model_name": "LayoutModel",
      "state": {
       "_model_module": "@jupyter-widgets/base",
       "_model_module_version": "1.2.0",
       "_model_name": "LayoutModel",
       "_view_count": null,
       "_view_module": "@jupyter-widgets/base",
       "_view_module_version": "1.2.0",
       "_view_name": "LayoutView",
       "align_content": null,
       "align_items": null,
       "align_self": null,
       "border": null,
       "bottom": null,
       "display": null,
       "flex": null,
       "flex_flow": null,
       "grid_area": null,
       "grid_auto_columns": null,
       "grid_auto_flow": null,
       "grid_auto_rows": null,
       "grid_column": null,
       "grid_gap": null,
       "grid_row": null,
       "grid_template_areas": null,
       "grid_template_columns": null,
       "grid_template_rows": null,
       "height": null,
       "justify_content": null,
       "justify_items": null,
       "left": null,
       "margin": null,
       "max_height": null,
       "max_width": null,
       "min_height": null,
       "min_width": null,
       "object_fit": null,
       "object_position": null,
       "order": null,
       "overflow": null,
       "overflow_x": null,
       "overflow_y": null,
       "padding": null,
       "right": null,
       "top": null,
       "visibility": null,
       "width": null
      }
     },
     "89f3d1df393345e29d6e53c78b0a44fe": {
      "model_module": "@jupyter-widgets/controls",
      "model_module_version": "1.5.0",
      "model_name": "DescriptionStyleModel",
      "state": {
       "_model_module": "@jupyter-widgets/controls",
       "_model_module_version": "1.5.0",
       "_model_name": "DescriptionStyleModel",
       "_view_count": null,
       "_view_module": "@jupyter-widgets/base",
       "_view_module_version": "1.2.0",
       "_view_name": "StyleView",
       "description_width": ""
      }
     },
     "8d707750a5a74f84acb8623c5924f2ee": {
      "model_module": "@jupyter-widgets/controls",
      "model_module_version": "1.5.0",
      "model_name": "DescriptionStyleModel",
      "state": {
       "_model_module": "@jupyter-widgets/controls",
       "_model_module_version": "1.5.0",
       "_model_name": "DescriptionStyleModel",
       "_view_count": null,
       "_view_module": "@jupyter-widgets/base",
       "_view_module_version": "1.2.0",
       "_view_name": "StyleView",
       "description_width": ""
      }
     },
     "9170b6f461954deeb9350fe05d154c64": {
      "model_module": "@jupyter-widgets/controls",
      "model_module_version": "1.5.0",
      "model_name": "DescriptionStyleModel",
      "state": {
       "_model_module": "@jupyter-widgets/controls",
       "_model_module_version": "1.5.0",
       "_model_name": "DescriptionStyleModel",
       "_view_count": null,
       "_view_module": "@jupyter-widgets/base",
       "_view_module_version": "1.2.0",
       "_view_name": "StyleView",
       "description_width": ""
      }
     },
     "92f944fc24544063ba1bbbfbc681eb0c": {
      "model_module": "@jupyter-widgets/controls",
      "model_module_version": "1.5.0",
      "model_name": "HTMLModel",
      "state": {
       "_dom_classes": [],
       "_model_module": "@jupyter-widgets/controls",
       "_model_module_version": "1.5.0",
       "_model_name": "HTMLModel",
       "_view_count": null,
       "_view_module": "@jupyter-widgets/controls",
       "_view_module_version": "1.5.0",
       "_view_name": "HTMLView",
       "description": "",
       "description_tooltip": null,
       "layout": "IPY_MODEL_e6eeb161c2a143daa2f630745c505f4f",
       "placeholder": "​",
       "style": "IPY_MODEL_f59d00eb6b124d63bb9a2c635d9860b1",
       "value": "100%"
      }
     },
     "991e7109867d40029be944a135908d08": {
      "model_module": "@jupyter-widgets/controls",
      "model_module_version": "1.5.0",
      "model_name": "HTMLModel",
      "state": {
       "_dom_classes": [],
       "_model_module": "@jupyter-widgets/controls",
       "_model_module_version": "1.5.0",
       "_model_name": "HTMLModel",
       "_view_count": null,
       "_view_module": "@jupyter-widgets/controls",
       "_view_module_version": "1.5.0",
       "_view_name": "HTMLView",
       "description": "",
       "description_tooltip": null,
       "layout": "IPY_MODEL_bfa654f290e14c9d94b351d59f0e47cd",
       "placeholder": "​",
       "style": "IPY_MODEL_9170b6f461954deeb9350fe05d154c64",
       "value": " 2/2 [00:38&lt;00:00, 16.25s/ba]"
      }
     },
     "99fb56ccc60c4a7ca13e5e6f007467ad": {
      "model_module": "@jupyter-widgets/controls",
      "model_module_version": "1.5.0",
      "model_name": "HTMLModel",
      "state": {
       "_dom_classes": [],
       "_model_module": "@jupyter-widgets/controls",
       "_model_module_version": "1.5.0",
       "_model_name": "HTMLModel",
       "_view_count": null,
       "_view_module": "@jupyter-widgets/controls",
       "_view_module_version": "1.5.0",
       "_view_name": "HTMLView",
       "description": "",
       "description_tooltip": null,
       "layout": "IPY_MODEL_249a0a39d1144b97940173dabb0395cd",
       "placeholder": "​",
       "style": "IPY_MODEL_0ae3f12beee5414dbcb06c7a1425dc9b",
       "value": " 1/1 [00:01&lt;00:00,  1.20s/ba]"
      }
     },
     "9a2adb08b9a34e46a4626ca959649b95": {
      "model_module": "@jupyter-widgets/base",
      "model_module_version": "1.2.0",
      "model_name": "LayoutModel",
      "state": {
       "_model_module": "@jupyter-widgets/base",
       "_model_module_version": "1.2.0",
       "_model_name": "LayoutModel",
       "_view_count": null,
       "_view_module": "@jupyter-widgets/base",
       "_view_module_version": "1.2.0",
       "_view_name": "LayoutView",
       "align_content": null,
       "align_items": null,
       "align_self": null,
       "border": null,
       "bottom": null,
       "display": null,
       "flex": null,
       "flex_flow": null,
       "grid_area": null,
       "grid_auto_columns": null,
       "grid_auto_flow": null,
       "grid_auto_rows": null,
       "grid_column": null,
       "grid_gap": null,
       "grid_row": null,
       "grid_template_areas": null,
       "grid_template_columns": null,
       "grid_template_rows": null,
       "height": null,
       "justify_content": null,
       "justify_items": null,
       "left": null,
       "margin": null,
       "max_height": null,
       "max_width": null,
       "min_height": null,
       "min_width": null,
       "object_fit": null,
       "object_position": null,
       "order": null,
       "overflow": null,
       "overflow_x": null,
       "overflow_y": null,
       "padding": null,
       "right": null,
       "top": null,
       "visibility": null,
       "width": null
      }
     },
     "9c501a4dec9b4ad5b70cf7999d0fe47d": {
      "model_module": "@jupyter-widgets/controls",
      "model_module_version": "1.5.0",
      "model_name": "DescriptionStyleModel",
      "state": {
       "_model_module": "@jupyter-widgets/controls",
       "_model_module_version": "1.5.0",
       "_model_name": "DescriptionStyleModel",
       "_view_count": null,
       "_view_module": "@jupyter-widgets/base",
       "_view_module_version": "1.2.0",
       "_view_name": "StyleView",
       "description_width": ""
      }
     },
     "9f40b75e8423475e8068956244c01d47": {
      "model_module": "@jupyter-widgets/controls",
      "model_module_version": "1.5.0",
      "model_name": "DescriptionStyleModel",
      "state": {
       "_model_module": "@jupyter-widgets/controls",
       "_model_module_version": "1.5.0",
       "_model_name": "DescriptionStyleModel",
       "_view_count": null,
       "_view_module": "@jupyter-widgets/base",
       "_view_module_version": "1.2.0",
       "_view_name": "StyleView",
       "description_width": ""
      }
     },
     "a15ae7dc57c242899786b616e26ef22d": {
      "model_module": "@jupyter-widgets/controls",
      "model_module_version": "1.5.0",
      "model_name": "DescriptionStyleModel",
      "state": {
       "_model_module": "@jupyter-widgets/controls",
       "_model_module_version": "1.5.0",
       "_model_name": "DescriptionStyleModel",
       "_view_count": null,
       "_view_module": "@jupyter-widgets/base",
       "_view_module_version": "1.2.0",
       "_view_name": "StyleView",
       "description_width": ""
      }
     },
     "a2fcf81c13b14b11bf5a9430b7949dba": {
      "model_module": "@jupyter-widgets/controls",
      "model_module_version": "1.5.0",
      "model_name": "DescriptionStyleModel",
      "state": {
       "_model_module": "@jupyter-widgets/controls",
       "_model_module_version": "1.5.0",
       "_model_name": "DescriptionStyleModel",
       "_view_count": null,
       "_view_module": "@jupyter-widgets/base",
       "_view_module_version": "1.2.0",
       "_view_name": "StyleView",
       "description_width": ""
      }
     },
     "a53c51769ca54130828e19899393a2df": {
      "model_module": "@jupyter-widgets/controls",
      "model_module_version": "1.5.0",
      "model_name": "HTMLModel",
      "state": {
       "_dom_classes": [],
       "_model_module": "@jupyter-widgets/controls",
       "_model_module_version": "1.5.0",
       "_model_name": "HTMLModel",
       "_view_count": null,
       "_view_module": "@jupyter-widgets/controls",
       "_view_module_version": "1.5.0",
       "_view_name": "HTMLView",
       "description": "",
       "description_tooltip": null,
       "layout": "IPY_MODEL_fe8eb04fa9394c1991c1e633e311b79e",
       "placeholder": "​",
       "style": "IPY_MODEL_c0f4ccc414c1422da2267a289a893431",
       "value": " 64/64 [00:03&lt;00:00, 23.65it/s]"
      }
     },
     "a7eb38ae79434257b4bdbddcbf8eed04": {
      "model_module": "@jupyter-widgets/controls",
      "model_module_version": "1.5.0",
      "model_name": "HBoxModel",
      "state": {
       "_dom_classes": [],
       "_model_module": "@jupyter-widgets/controls",
       "_model_module_version": "1.5.0",
       "_model_name": "HBoxModel",
       "_view_count": null,
       "_view_module": "@jupyter-widgets/controls",
       "_view_module_version": "1.5.0",
       "_view_name": "HBoxView",
       "box_style": "",
       "children": [
        "IPY_MODEL_3bdbec89144740a18fe25cbf7983394a",
        "IPY_MODEL_04b06e47581843feb3edafee7e3f7b02",
        "IPY_MODEL_c2bdb5fea96d49fcb5744d06bded705a"
       ],
       "layout": "IPY_MODEL_48480ec3f8c24ab2a2b0fdec5190e78d"
      }
     },
     "ad6634feece34deabd9aa068b1205ffb": {
      "model_module": "@jupyter-widgets/controls",
      "model_module_version": "1.5.0",
      "model_name": "HTMLModel",
      "state": {
       "_dom_classes": [],
       "_model_module": "@jupyter-widgets/controls",
       "_model_module_version": "1.5.0",
       "_model_name": "HTMLModel",
       "_view_count": null,
       "_view_module": "@jupyter-widgets/controls",
       "_view_module_version": "1.5.0",
       "_view_name": "HTMLView",
       "description": "",
       "description_tooltip": null,
       "layout": "IPY_MODEL_840278dd404c409686b03b7c380d2f13",
       "placeholder": "​",
       "style": "IPY_MODEL_8d707750a5a74f84acb8623c5924f2ee",
       "value": " 67/67 [00:00&lt;00:00, 242.90ex/s]"
      }
     },
     "ae86e857e3a9491ba8568e8e9845703c": {
      "model_module": "@jupyter-widgets/controls",
      "model_module_version": "1.5.0",
      "model_name": "DescriptionStyleModel",
      "state": {
       "_model_module": "@jupyter-widgets/controls",
       "_model_module_version": "1.5.0",
       "_model_name": "DescriptionStyleModel",
       "_view_count": null,
       "_view_module": "@jupyter-widgets/base",
       "_view_module_version": "1.2.0",
       "_view_name": "StyleView",
       "description_width": ""
      }
     },
     "afeac32e124e4e8096fe7309ddcf018c": {
      "model_module": "@jupyter-widgets/base",
      "model_module_version": "1.2.0",
      "model_name": "LayoutModel",
      "state": {
       "_model_module": "@jupyter-widgets/base",
       "_model_module_version": "1.2.0",
       "_model_name": "LayoutModel",
       "_view_count": null,
       "_view_module": "@jupyter-widgets/base",
       "_view_module_version": "1.2.0",
       "_view_name": "LayoutView",
       "align_content": null,
       "align_items": null,
       "align_self": null,
       "border": null,
       "bottom": null,
       "display": null,
       "flex": null,
       "flex_flow": null,
       "grid_area": null,
       "grid_auto_columns": null,
       "grid_auto_flow": null,
       "grid_auto_rows": null,
       "grid_column": null,
       "grid_gap": null,
       "grid_row": null,
       "grid_template_areas": null,
       "grid_template_columns": null,
       "grid_template_rows": null,
       "height": null,
       "justify_content": null,
       "justify_items": null,
       "left": null,
       "margin": null,
       "max_height": null,
       "max_width": null,
       "min_height": null,
       "min_width": null,
       "object_fit": null,
       "object_position": null,
       "order": null,
       "overflow": null,
       "overflow_x": null,
       "overflow_y": null,
       "padding": null,
       "right": null,
       "top": null,
       "visibility": null,
       "width": null
      }
     },
     "b3854867879d4726a5499d5a1c0647f1": {
      "model_module": "@jupyter-widgets/base",
      "model_module_version": "1.2.0",
      "model_name": "LayoutModel",
      "state": {
       "_model_module": "@jupyter-widgets/base",
       "_model_module_version": "1.2.0",
       "_model_name": "LayoutModel",
       "_view_count": null,
       "_view_module": "@jupyter-widgets/base",
       "_view_module_version": "1.2.0",
       "_view_name": "LayoutView",
       "align_content": null,
       "align_items": null,
       "align_self": null,
       "border": null,
       "bottom": null,
       "display": null,
       "flex": null,
       "flex_flow": null,
       "grid_area": null,
       "grid_auto_columns": null,
       "grid_auto_flow": null,
       "grid_auto_rows": null,
       "grid_column": null,
       "grid_gap": null,
       "grid_row": null,
       "grid_template_areas": null,
       "grid_template_columns": null,
       "grid_template_rows": null,
       "height": null,
       "justify_content": null,
       "justify_items": null,
       "left": null,
       "margin": null,
       "max_height": null,
       "max_width": null,
       "min_height": null,
       "min_width": null,
       "object_fit": null,
       "object_position": null,
       "order": null,
       "overflow": null,
       "overflow_x": null,
       "overflow_y": null,
       "padding": null,
       "right": null,
       "top": null,
       "visibility": null,
       "width": null
      }
     },
     "b43d0c2e817640e891b8b6e236116ca6": {
      "model_module": "@jupyter-widgets/base",
      "model_module_version": "1.2.0",
      "model_name": "LayoutModel",
      "state": {
       "_model_module": "@jupyter-widgets/base",
       "_model_module_version": "1.2.0",
       "_model_name": "LayoutModel",
       "_view_count": null,
       "_view_module": "@jupyter-widgets/base",
       "_view_module_version": "1.2.0",
       "_view_name": "LayoutView",
       "align_content": null,
       "align_items": null,
       "align_self": null,
       "border": null,
       "bottom": null,
       "display": null,
       "flex": null,
       "flex_flow": null,
       "grid_area": null,
       "grid_auto_columns": null,
       "grid_auto_flow": null,
       "grid_auto_rows": null,
       "grid_column": null,
       "grid_gap": null,
       "grid_row": null,
       "grid_template_areas": null,
       "grid_template_columns": null,
       "grid_template_rows": null,
       "height": null,
       "justify_content": null,
       "justify_items": null,
       "left": null,
       "margin": null,
       "max_height": null,
       "max_width": null,
       "min_height": null,
       "min_width": null,
       "object_fit": null,
       "object_position": null,
       "order": null,
       "overflow": null,
       "overflow_x": null,
       "overflow_y": null,
       "padding": null,
       "right": null,
       "top": null,
       "visibility": null,
       "width": null
      }
     },
     "bd163ada05cd4304ab397d8c48688578": {
      "model_module": "@jupyter-widgets/base",
      "model_module_version": "1.2.0",
      "model_name": "LayoutModel",
      "state": {
       "_model_module": "@jupyter-widgets/base",
       "_model_module_version": "1.2.0",
       "_model_name": "LayoutModel",
       "_view_count": null,
       "_view_module": "@jupyter-widgets/base",
       "_view_module_version": "1.2.0",
       "_view_name": "LayoutView",
       "align_content": null,
       "align_items": null,
       "align_self": null,
       "border": null,
       "bottom": null,
       "display": null,
       "flex": null,
       "flex_flow": null,
       "grid_area": null,
       "grid_auto_columns": null,
       "grid_auto_flow": null,
       "grid_auto_rows": null,
       "grid_column": null,
       "grid_gap": null,
       "grid_row": null,
       "grid_template_areas": null,
       "grid_template_columns": null,
       "grid_template_rows": null,
       "height": null,
       "justify_content": null,
       "justify_items": null,
       "left": null,
       "margin": null,
       "max_height": null,
       "max_width": null,
       "min_height": null,
       "min_width": null,
       "object_fit": null,
       "object_position": null,
       "order": null,
       "overflow": null,
       "overflow_x": null,
       "overflow_y": null,
       "padding": null,
       "right": null,
       "top": null,
       "visibility": null,
       "width": null
      }
     },
     "bf99cbba7d4748dc9609d6a5f6a3dce3": {
      "model_module": "@jupyter-widgets/controls",
      "model_module_version": "1.5.0",
      "model_name": "HBoxModel",
      "state": {
       "_dom_classes": [],
       "_model_module": "@jupyter-widgets/controls",
       "_model_module_version": "1.5.0",
       "_model_name": "HBoxModel",
       "_view_count": null,
       "_view_module": "@jupyter-widgets/controls",
       "_view_module_version": "1.5.0",
       "_view_name": "HBoxView",
       "box_style": "",
       "children": [
        "IPY_MODEL_5022c63764de4a1faa0e71b4bd6bce56",
        "IPY_MODEL_6230e63fba194850b8284a139ab86cdf",
        "IPY_MODEL_501a1da2de8041549d7c04d4ed0e2c25"
       ],
       "layout": "IPY_MODEL_5aacd4e330db4091a24f88201ed553b5"
      }
     },
     "bfa654f290e14c9d94b351d59f0e47cd": {
      "model_module": "@jupyter-widgets/base",
      "model_module_version": "1.2.0",
      "model_name": "LayoutModel",
      "state": {
       "_model_module": "@jupyter-widgets/base",
       "_model_module_version": "1.2.0",
       "_model_name": "LayoutModel",
       "_view_count": null,
       "_view_module": "@jupyter-widgets/base",
       "_view_module_version": "1.2.0",
       "_view_name": "LayoutView",
       "align_content": null,
       "align_items": null,
       "align_self": null,
       "border": null,
       "bottom": null,
       "display": null,
       "flex": null,
       "flex_flow": null,
       "grid_area": null,
       "grid_auto_columns": null,
       "grid_auto_flow": null,
       "grid_auto_rows": null,
       "grid_column": null,
       "grid_gap": null,
       "grid_row": null,
       "grid_template_areas": null,
       "grid_template_columns": null,
       "grid_template_rows": null,
       "height": null,
       "justify_content": null,
       "justify_items": null,
       "left": null,
       "margin": null,
       "max_height": null,
       "max_width": null,
       "min_height": null,
       "min_width": null,
       "object_fit": null,
       "object_position": null,
       "order": null,
       "overflow": null,
       "overflow_x": null,
       "overflow_y": null,
       "padding": null,
       "right": null,
       "top": null,
       "visibility": null,
       "width": null
      }
     },
     "c0f4ccc414c1422da2267a289a893431": {
      "model_module": "@jupyter-widgets/controls",
      "model_module_version": "1.5.0",
      "model_name": "DescriptionStyleModel",
      "state": {
       "_model_module": "@jupyter-widgets/controls",
       "_model_module_version": "1.5.0",
       "_model_name": "DescriptionStyleModel",
       "_view_count": null,
       "_view_module": "@jupyter-widgets/base",
       "_view_module_version": "1.2.0",
       "_view_name": "StyleView",
       "description_width": ""
      }
     },
     "c16c447eba6d49048be81a5e9e75e4d3": {
      "model_module": "@jupyter-widgets/controls",
      "model_module_version": "1.5.0",
      "model_name": "FloatProgressModel",
      "state": {
       "_dom_classes": [],
       "_model_module": "@jupyter-widgets/controls",
       "_model_module_version": "1.5.0",
       "_model_name": "FloatProgressModel",
       "_view_count": null,
       "_view_module": "@jupyter-widgets/controls",
       "_view_module_version": "1.5.0",
       "_view_name": "ProgressView",
       "bar_style": "",
       "description": "",
       "description_tooltip": null,
       "layout": "IPY_MODEL_de9d77345ad945c088bd20fdb0a32097",
       "max": 1,
       "min": 0,
       "orientation": "horizontal",
       "style": "IPY_MODEL_c2c28301ddba43a191e51d468cd46953",
       "value": 0
      }
     },
     "c2bdb5fea96d49fcb5744d06bded705a": {
      "model_module": "@jupyter-widgets/controls",
      "model_module_version": "1.5.0",
      "model_name": "HTMLModel",
      "state": {
       "_dom_classes": [],
       "_model_module": "@jupyter-widgets/controls",
       "_model_module_version": "1.5.0",
       "_model_name": "HTMLModel",
       "_view_count": null,
       "_view_module": "@jupyter-widgets/controls",
       "_view_module_version": "1.5.0",
       "_view_name": "HTMLView",
       "description": "",
       "description_tooltip": null,
       "layout": "IPY_MODEL_38cf452f72a246bb8d2a440aaceb9250",
       "placeholder": "​",
       "style": "IPY_MODEL_f878f68f94fa4b9e80d0101d409d1f5f",
       "value": " 1/1 [00:08&lt;00:00,  8.11s/ba]"
      }
     },
     "c2c28301ddba43a191e51d468cd46953": {
      "model_module": "@jupyter-widgets/controls",
      "model_module_version": "1.5.0",
      "model_name": "ProgressStyleModel",
      "state": {
       "_model_module": "@jupyter-widgets/controls",
       "_model_module_version": "1.5.0",
       "_model_name": "ProgressStyleModel",
       "_view_count": null,
       "_view_module": "@jupyter-widgets/base",
       "_view_module_version": "1.2.0",
       "_view_name": "StyleView",
       "bar_color": null,
       "description_width": ""
      }
     },
     "cc8e510e01264e1cbad2e5a5d7ebae1d": {
      "model_module": "@jupyter-widgets/controls",
      "model_module_version": "1.5.0",
      "model_name": "ProgressStyleModel",
      "state": {
       "_model_module": "@jupyter-widgets/controls",
       "_model_module_version": "1.5.0",
       "_model_name": "ProgressStyleModel",
       "_view_count": null,
       "_view_module": "@jupyter-widgets/base",
       "_view_module_version": "1.2.0",
       "_view_name": "StyleView",
       "bar_color": null,
       "description_width": ""
      }
     },
     "cf2ac789b6664c4f8310e01ad319d1e4": {
      "model_module": "@jupyter-widgets/base",
      "model_module_version": "1.2.0",
      "model_name": "LayoutModel",
      "state": {
       "_model_module": "@jupyter-widgets/base",
       "_model_module_version": "1.2.0",
       "_model_name": "LayoutModel",
       "_view_count": null,
       "_view_module": "@jupyter-widgets/base",
       "_view_module_version": "1.2.0",
       "_view_name": "LayoutView",
       "align_content": null,
       "align_items": null,
       "align_self": null,
       "border": null,
       "bottom": null,
       "display": null,
       "flex": null,
       "flex_flow": null,
       "grid_area": null,
       "grid_auto_columns": null,
       "grid_auto_flow": null,
       "grid_auto_rows": null,
       "grid_column": null,
       "grid_gap": null,
       "grid_row": null,
       "grid_template_areas": null,
       "grid_template_columns": null,
       "grid_template_rows": null,
       "height": null,
       "justify_content": null,
       "justify_items": null,
       "left": null,
       "margin": null,
       "max_height": null,
       "max_width": null,
       "min_height": null,
       "min_width": null,
       "object_fit": null,
       "object_position": null,
       "order": null,
       "overflow": null,
       "overflow_x": null,
       "overflow_y": null,
       "padding": null,
       "right": null,
       "top": null,
       "visibility": null,
       "width": null
      }
     },
     "cf9744a4a5074aac95f283005826f90f": {
      "model_module": "@jupyter-widgets/base",
      "model_module_version": "1.2.0",
      "model_name": "LayoutModel",
      "state": {
       "_model_module": "@jupyter-widgets/base",
       "_model_module_version": "1.2.0",
       "_model_name": "LayoutModel",
       "_view_count": null,
       "_view_module": "@jupyter-widgets/base",
       "_view_module_version": "1.2.0",
       "_view_name": "LayoutView",
       "align_content": null,
       "align_items": null,
       "align_self": null,
       "border": null,
       "bottom": null,
       "display": null,
       "flex": null,
       "flex_flow": null,
       "grid_area": null,
       "grid_auto_columns": null,
       "grid_auto_flow": null,
       "grid_auto_rows": null,
       "grid_column": null,
       "grid_gap": null,
       "grid_row": null,
       "grid_template_areas": null,
       "grid_template_columns": null,
       "grid_template_rows": null,
       "height": null,
       "justify_content": null,
       "justify_items": null,
       "left": null,
       "margin": null,
       "max_height": null,
       "max_width": null,
       "min_height": null,
       "min_width": null,
       "object_fit": null,
       "object_position": null,
       "order": null,
       "overflow": null,
       "overflow_x": null,
       "overflow_y": null,
       "padding": null,
       "right": null,
       "top": null,
       "visibility": null,
       "width": null
      }
     },
     "d665a3f3f609469cb701a648f0639244": {
      "model_module": "@jupyter-widgets/controls",
      "model_module_version": "1.5.0",
      "model_name": "HTMLModel",
      "state": {
       "_dom_classes": [],
       "_model_module": "@jupyter-widgets/controls",
       "_model_module_version": "1.5.0",
       "_model_name": "HTMLModel",
       "_view_count": null,
       "_view_module": "@jupyter-widgets/controls",
       "_view_module_version": "1.5.0",
       "_view_name": "HTMLView",
       "description": "",
       "description_tooltip": null,
       "layout": "IPY_MODEL_edf1b160899c461caa2404cc5ce9ade8",
       "placeholder": "​",
       "style": "IPY_MODEL_89f3d1df393345e29d6e53c78b0a44fe",
       "value": " 1/1 [00:02&lt;00:00,  2.73s/ba]"
      }
     },
     "d8dfb95a59034c27a8a8c69bc50364d9": {
      "model_module": "@jupyter-widgets/base",
      "model_module_version": "1.2.0",
      "model_name": "LayoutModel",
      "state": {
       "_model_module": "@jupyter-widgets/base",
       "_model_module_version": "1.2.0",
       "_model_name": "LayoutModel",
       "_view_count": null,
       "_view_module": "@jupyter-widgets/base",
       "_view_module_version": "1.2.0",
       "_view_name": "LayoutView",
       "align_content": null,
       "align_items": null,
       "align_self": null,
       "border": null,
       "bottom": null,
       "display": null,
       "flex": null,
       "flex_flow": null,
       "grid_area": null,
       "grid_auto_columns": null,
       "grid_auto_flow": null,
       "grid_auto_rows": null,
       "grid_column": null,
       "grid_gap": null,
       "grid_row": null,
       "grid_template_areas": null,
       "grid_template_columns": null,
       "grid_template_rows": null,
       "height": null,
       "justify_content": null,
       "justify_items": null,
       "left": null,
       "margin": null,
       "max_height": null,
       "max_width": null,
       "min_height": null,
       "min_width": null,
       "object_fit": null,
       "object_position": null,
       "order": null,
       "overflow": null,
       "overflow_x": null,
       "overflow_y": null,
       "padding": null,
       "right": null,
       "top": null,
       "visibility": null,
       "width": null
      }
     },
     "dd9f1ef300c843f4b505ac5ff4d31b3b": {
      "model_module": "@jupyter-widgets/base",
      "model_module_version": "1.2.0",
      "model_name": "LayoutModel",
      "state": {
       "_model_module": "@jupyter-widgets/base",
       "_model_module_version": "1.2.0",
       "_model_name": "LayoutModel",
       "_view_count": null,
       "_view_module": "@jupyter-widgets/base",
       "_view_module_version": "1.2.0",
       "_view_name": "LayoutView",
       "align_content": null,
       "align_items": null,
       "align_self": null,
       "border": null,
       "bottom": null,
       "display": null,
       "flex": null,
       "flex_flow": null,
       "grid_area": null,
       "grid_auto_columns": null,
       "grid_auto_flow": null,
       "grid_auto_rows": null,
       "grid_column": null,
       "grid_gap": null,
       "grid_row": null,
       "grid_template_areas": null,
       "grid_template_columns": null,
       "grid_template_rows": null,
       "height": null,
       "justify_content": null,
       "justify_items": null,
       "left": null,
       "margin": null,
       "max_height": null,
       "max_width": null,
       "min_height": null,
       "min_width": null,
       "object_fit": null,
       "object_position": null,
       "order": null,
       "overflow": null,
       "overflow_x": null,
       "overflow_y": null,
       "padding": null,
       "right": null,
       "top": null,
       "visibility": null,
       "width": null
      }
     },
     "de26d8a7279240738d9083938c6cbdfc": {
      "model_module": "@jupyter-widgets/controls",
      "model_module_version": "1.5.0",
      "model_name": "ProgressStyleModel",
      "state": {
       "_model_module": "@jupyter-widgets/controls",
       "_model_module_version": "1.5.0",
       "_model_name": "ProgressStyleModel",
       "_view_count": null,
       "_view_module": "@jupyter-widgets/base",
       "_view_module_version": "1.2.0",
       "_view_name": "StyleView",
       "bar_color": null,
       "description_width": ""
      }
     },
     "de9d77345ad945c088bd20fdb0a32097": {
      "model_module": "@jupyter-widgets/base",
      "model_module_version": "1.2.0",
      "model_name": "LayoutModel",
      "state": {
       "_model_module": "@jupyter-widgets/base",
       "_model_module_version": "1.2.0",
       "_model_name": "LayoutModel",
       "_view_count": null,
       "_view_module": "@jupyter-widgets/base",
       "_view_module_version": "1.2.0",
       "_view_name": "LayoutView",
       "align_content": null,
       "align_items": null,
       "align_self": null,
       "border": null,
       "bottom": null,
       "display": null,
       "flex": null,
       "flex_flow": null,
       "grid_area": null,
       "grid_auto_columns": null,
       "grid_auto_flow": null,
       "grid_auto_rows": null,
       "grid_column": null,
       "grid_gap": null,
       "grid_row": null,
       "grid_template_areas": null,
       "grid_template_columns": null,
       "grid_template_rows": null,
       "height": null,
       "justify_content": null,
       "justify_items": null,
       "left": null,
       "margin": null,
       "max_height": null,
       "max_width": null,
       "min_height": null,
       "min_width": null,
       "object_fit": null,
       "object_position": null,
       "order": null,
       "overflow": null,
       "overflow_x": null,
       "overflow_y": null,
       "padding": null,
       "right": null,
       "top": null,
       "visibility": null,
       "width": null
      }
     },
     "e1c187ec8ad3436eb4d94aeceeba2df2": {
      "model_module": "@jupyter-widgets/base",
      "model_module_version": "1.2.0",
      "model_name": "LayoutModel",
      "state": {
       "_model_module": "@jupyter-widgets/base",
       "_model_module_version": "1.2.0",
       "_model_name": "LayoutModel",
       "_view_count": null,
       "_view_module": "@jupyter-widgets/base",
       "_view_module_version": "1.2.0",
       "_view_name": "LayoutView",
       "align_content": null,
       "align_items": null,
       "align_self": null,
       "border": null,
       "bottom": null,
       "display": null,
       "flex": null,
       "flex_flow": null,
       "grid_area": null,
       "grid_auto_columns": null,
       "grid_auto_flow": null,
       "grid_auto_rows": null,
       "grid_column": null,
       "grid_gap": null,
       "grid_row": null,
       "grid_template_areas": null,
       "grid_template_columns": null,
       "grid_template_rows": null,
       "height": null,
       "justify_content": null,
       "justify_items": null,
       "left": null,
       "margin": null,
       "max_height": null,
       "max_width": null,
       "min_height": null,
       "min_width": null,
       "object_fit": null,
       "object_position": null,
       "order": null,
       "overflow": null,
       "overflow_x": null,
       "overflow_y": null,
       "padding": null,
       "right": null,
       "top": null,
       "visibility": null,
       "width": null
      }
     },
     "e4c50611ecbc42739b38800ad1838227": {
      "model_module": "@jupyter-widgets/base",
      "model_module_version": "1.2.0",
      "model_name": "LayoutModel",
      "state": {
       "_model_module": "@jupyter-widgets/base",
       "_model_module_version": "1.2.0",
       "_model_name": "LayoutModel",
       "_view_count": null,
       "_view_module": "@jupyter-widgets/base",
       "_view_module_version": "1.2.0",
       "_view_name": "LayoutView",
       "align_content": null,
       "align_items": null,
       "align_self": null,
       "border": null,
       "bottom": null,
       "display": null,
       "flex": null,
       "flex_flow": null,
       "grid_area": null,
       "grid_auto_columns": null,
       "grid_auto_flow": null,
       "grid_auto_rows": null,
       "grid_column": null,
       "grid_gap": null,
       "grid_row": null,
       "grid_template_areas": null,
       "grid_template_columns": null,
       "grid_template_rows": null,
       "height": null,
       "justify_content": null,
       "justify_items": null,
       "left": null,
       "margin": null,
       "max_height": null,
       "max_width": null,
       "min_height": null,
       "min_width": null,
       "object_fit": null,
       "object_position": null,
       "order": null,
       "overflow": null,
       "overflow_x": null,
       "overflow_y": null,
       "padding": null,
       "right": null,
       "top": null,
       "visibility": null,
       "width": null
      }
     },
     "e6eeb161c2a143daa2f630745c505f4f": {
      "model_module": "@jupyter-widgets/base",
      "model_module_version": "1.2.0",
      "model_name": "LayoutModel",
      "state": {
       "_model_module": "@jupyter-widgets/base",
       "_model_module_version": "1.2.0",
       "_model_name": "LayoutModel",
       "_view_count": null,
       "_view_module": "@jupyter-widgets/base",
       "_view_module_version": "1.2.0",
       "_view_name": "LayoutView",
       "align_content": null,
       "align_items": null,
       "align_self": null,
       "border": null,
       "bottom": null,
       "display": null,
       "flex": null,
       "flex_flow": null,
       "grid_area": null,
       "grid_auto_columns": null,
       "grid_auto_flow": null,
       "grid_auto_rows": null,
       "grid_column": null,
       "grid_gap": null,
       "grid_row": null,
       "grid_template_areas": null,
       "grid_template_columns": null,
       "grid_template_rows": null,
       "height": null,
       "justify_content": null,
       "justify_items": null,
       "left": null,
       "margin": null,
       "max_height": null,
       "max_width": null,
       "min_height": null,
       "min_width": null,
       "object_fit": null,
       "object_position": null,
       "order": null,
       "overflow": null,
       "overflow_x": null,
       "overflow_y": null,
       "padding": null,
       "right": null,
       "top": null,
       "visibility": null,
       "width": null
      }
     },
     "ea44eecb8c5f41b8b6d504bab53fb182": {
      "model_module": "@jupyter-widgets/base",
      "model_module_version": "1.2.0",
      "model_name": "LayoutModel",
      "state": {
       "_model_module": "@jupyter-widgets/base",
       "_model_module_version": "1.2.0",
       "_model_name": "LayoutModel",
       "_view_count": null,
       "_view_module": "@jupyter-widgets/base",
       "_view_module_version": "1.2.0",
       "_view_name": "LayoutView",
       "align_content": null,
       "align_items": null,
       "align_self": null,
       "border": null,
       "bottom": null,
       "display": null,
       "flex": null,
       "flex_flow": null,
       "grid_area": null,
       "grid_auto_columns": null,
       "grid_auto_flow": null,
       "grid_auto_rows": null,
       "grid_column": null,
       "grid_gap": null,
       "grid_row": null,
       "grid_template_areas": null,
       "grid_template_columns": null,
       "grid_template_rows": null,
       "height": null,
       "justify_content": null,
       "justify_items": null,
       "left": null,
       "margin": null,
       "max_height": null,
       "max_width": null,
       "min_height": null,
       "min_width": null,
       "object_fit": null,
       "object_position": null,
       "order": null,
       "overflow": null,
       "overflow_x": null,
       "overflow_y": null,
       "padding": null,
       "right": null,
       "top": null,
       "visibility": null,
       "width": null
      }
     },
     "edf1b160899c461caa2404cc5ce9ade8": {
      "model_module": "@jupyter-widgets/base",
      "model_module_version": "1.2.0",
      "model_name": "LayoutModel",
      "state": {
       "_model_module": "@jupyter-widgets/base",
       "_model_module_version": "1.2.0",
       "_model_name": "LayoutModel",
       "_view_count": null,
       "_view_module": "@jupyter-widgets/base",
       "_view_module_version": "1.2.0",
       "_view_name": "LayoutView",
       "align_content": null,
       "align_items": null,
       "align_self": null,
       "border": null,
       "bottom": null,
       "display": null,
       "flex": null,
       "flex_flow": null,
       "grid_area": null,
       "grid_auto_columns": null,
       "grid_auto_flow": null,
       "grid_auto_rows": null,
       "grid_column": null,
       "grid_gap": null,
       "grid_row": null,
       "grid_template_areas": null,
       "grid_template_columns": null,
       "grid_template_rows": null,
       "height": null,
       "justify_content": null,
       "justify_items": null,
       "left": null,
       "margin": null,
       "max_height": null,
       "max_width": null,
       "min_height": null,
       "min_width": null,
       "object_fit": null,
       "object_position": null,
       "order": null,
       "overflow": null,
       "overflow_x": null,
       "overflow_y": null,
       "padding": null,
       "right": null,
       "top": null,
       "visibility": null,
       "width": null
      }
     },
     "f2f26d9c7d4b45c2b99331bc774e28f3": {
      "model_module": "@jupyter-widgets/controls",
      "model_module_version": "1.5.0",
      "model_name": "VBoxModel",
      "state": {
       "_dom_classes": [],
       "_model_module": "@jupyter-widgets/controls",
       "_model_module_version": "1.5.0",
       "_model_name": "VBoxModel",
       "_view_count": null,
       "_view_module": "@jupyter-widgets/controls",
       "_view_module_version": "1.5.0",
       "_view_name": "VBoxView",
       "box_style": "",
       "children": [
        "IPY_MODEL_08bd53c53c114b178163aa64c1204cff",
        "IPY_MODEL_c16c447eba6d49048be81a5e9e75e4d3"
       ],
       "layout": "IPY_MODEL_dd9f1ef300c843f4b505ac5ff4d31b3b"
      }
     },
     "f52a37b6eab945b0a67958d4f07f0161": {
      "model_module": "@jupyter-widgets/controls",
      "model_module_version": "1.5.0",
      "model_name": "HBoxModel",
      "state": {
       "_dom_classes": [],
       "_model_module": "@jupyter-widgets/controls",
       "_model_module_version": "1.5.0",
       "_model_name": "HBoxModel",
       "_view_count": null,
       "_view_module": "@jupyter-widgets/controls",
       "_view_module_version": "1.5.0",
       "_view_name": "HBoxView",
       "box_style": "",
       "children": [
        "IPY_MODEL_92f944fc24544063ba1bbbfbc681eb0c",
        "IPY_MODEL_2ce62065c0b94155a1496fa127cc9711",
        "IPY_MODEL_53300e94ce5142eda511768ef7a9fc51"
       ],
       "layout": "IPY_MODEL_fe48db5b610d469294c2664e826a9278"
      }
     },
     "f59d00eb6b124d63bb9a2c635d9860b1": {
      "model_module": "@jupyter-widgets/controls",
      "model_module_version": "1.5.0",
      "model_name": "DescriptionStyleModel",
      "state": {
       "_model_module": "@jupyter-widgets/controls",
       "_model_module_version": "1.5.0",
       "_model_name": "DescriptionStyleModel",
       "_view_count": null,
       "_view_module": "@jupyter-widgets/base",
       "_view_module_version": "1.2.0",
       "_view_name": "StyleView",
       "description_width": ""
      }
     },
     "f72d3f98dfd841848595ab7eb9f75e67": {
      "model_module": "@jupyter-widgets/controls",
      "model_module_version": "1.5.0",
      "model_name": "FloatProgressModel",
      "state": {
       "_dom_classes": [],
       "_model_module": "@jupyter-widgets/controls",
       "_model_module_version": "1.5.0",
       "_model_name": "FloatProgressModel",
       "_view_count": null,
       "_view_module": "@jupyter-widgets/controls",
       "_view_module_version": "1.5.0",
       "_view_name": "ProgressView",
       "bar_style": "success",
       "description": "",
       "description_tooltip": null,
       "layout": "IPY_MODEL_b3854867879d4726a5499d5a1c0647f1",
       "max": 64,
       "min": 0,
       "orientation": "horizontal",
       "style": "IPY_MODEL_0b01be4fb8404b2696b4fda6b93766ae",
       "value": 64
      }
     },
     "f878f68f94fa4b9e80d0101d409d1f5f": {
      "model_module": "@jupyter-widgets/controls",
      "model_module_version": "1.5.0",
      "model_name": "DescriptionStyleModel",
      "state": {
       "_model_module": "@jupyter-widgets/controls",
       "_model_module_version": "1.5.0",
       "_model_name": "DescriptionStyleModel",
       "_view_count": null,
       "_view_module": "@jupyter-widgets/base",
       "_view_module_version": "1.2.0",
       "_view_name": "StyleView",
       "description_width": ""
      }
     },
     "fabc85c06b3f4c0cbe775f73c0403cd4": {
      "model_module": "@jupyter-widgets/controls",
      "model_module_version": "1.5.0",
      "model_name": "DescriptionStyleModel",
      "state": {
       "_model_module": "@jupyter-widgets/controls",
       "_model_module_version": "1.5.0",
       "_model_name": "DescriptionStyleModel",
       "_view_count": null,
       "_view_module": "@jupyter-widgets/base",
       "_view_module_version": "1.2.0",
       "_view_name": "StyleView",
       "description_width": ""
      }
     },
     "fc6a607c189f4cac884f10d308cdc0da": {
      "model_module": "@jupyter-widgets/controls",
      "model_module_version": "1.5.0",
      "model_name": "FloatProgressModel",
      "state": {
       "_dom_classes": [],
       "_model_module": "@jupyter-widgets/controls",
       "_model_module_version": "1.5.0",
       "_model_name": "FloatProgressModel",
       "_view_count": null,
       "_view_module": "@jupyter-widgets/controls",
       "_view_module_version": "1.5.0",
       "_view_name": "ProgressView",
       "bar_style": "success",
       "description": "",
       "description_tooltip": null,
       "layout": "IPY_MODEL_afeac32e124e4e8096fe7309ddcf018c",
       "max": 1,
       "min": 0,
       "orientation": "horizontal",
       "style": "IPY_MODEL_2cc0ff91522c4caa9e8c90ad03767fa9",
       "value": 1
      }
     },
     "fe48db5b610d469294c2664e826a9278": {
      "model_module": "@jupyter-widgets/base",
      "model_module_version": "1.2.0",
      "model_name": "LayoutModel",
      "state": {
       "_model_module": "@jupyter-widgets/base",
       "_model_module_version": "1.2.0",
       "_model_name": "LayoutModel",
       "_view_count": null,
       "_view_module": "@jupyter-widgets/base",
       "_view_module_version": "1.2.0",
       "_view_name": "LayoutView",
       "align_content": null,
       "align_items": null,
       "align_self": null,
       "border": null,
       "bottom": null,
       "display": null,
       "flex": null,
       "flex_flow": null,
       "grid_area": null,
       "grid_auto_columns": null,
       "grid_auto_flow": null,
       "grid_auto_rows": null,
       "grid_column": null,
       "grid_gap": null,
       "grid_row": null,
       "grid_template_areas": null,
       "grid_template_columns": null,
       "grid_template_rows": null,
       "height": null,
       "justify_content": null,
       "justify_items": null,
       "left": null,
       "margin": null,
       "max_height": null,
       "max_width": null,
       "min_height": null,
       "min_width": null,
       "object_fit": null,
       "object_position": null,
       "order": null,
       "overflow": null,
       "overflow_x": null,
       "overflow_y": null,
       "padding": null,
       "right": null,
       "top": null,
       "visibility": null,
       "width": null
      }
     },
     "fe8eb04fa9394c1991c1e633e311b79e": {
      "model_module": "@jupyter-widgets/base",
      "model_module_version": "1.2.0",
      "model_name": "LayoutModel",
      "state": {
       "_model_module": "@jupyter-widgets/base",
       "_model_module_version": "1.2.0",
       "_model_name": "LayoutModel",
       "_view_count": null,
       "_view_module": "@jupyter-widgets/base",
       "_view_module_version": "1.2.0",
       "_view_name": "LayoutView",
       "align_content": null,
       "align_items": null,
       "align_self": null,
       "border": null,
       "bottom": null,
       "display": null,
       "flex": null,
       "flex_flow": null,
       "grid_area": null,
       "grid_auto_columns": null,
       "grid_auto_flow": null,
       "grid_auto_rows": null,
       "grid_column": null,
       "grid_gap": null,
       "grid_row": null,
       "grid_template_areas": null,
       "grid_template_columns": null,
       "grid_template_rows": null,
       "height": null,
       "justify_content": null,
       "justify_items": null,
       "left": null,
       "margin": null,
       "max_height": null,
       "max_width": null,
       "min_height": null,
       "min_width": null,
       "object_fit": null,
       "object_position": null,
       "order": null,
       "overflow": null,
       "overflow_x": null,
       "overflow_y": null,
       "padding": null,
       "right": null,
       "top": null,
       "visibility": null,
       "width": null
      }
     }
    },
    "version_major": 2,
    "version_minor": 0
   }
  }
 },
 "nbformat": 4,
 "nbformat_minor": 5
}
